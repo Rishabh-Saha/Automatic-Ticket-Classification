{
  "cells": [
    {
      "cell_type": "markdown",
      "metadata": {
        "id": "rhR-ZUkwJrFn"
      },
      "source": [
        "## Problem Statement\n",
        "\n",
        "You need to build a model that is able to classify customer complaints based on the products/services. By doing so, you can segregate these tickets into their relevant categories and, therefore, help in the quick resolution of the issue.\n",
        "\n",
        "You will be doing topic modelling on the <b>.json</b> data provided by the company. Since this data is not labelled, you need to apply NMF to analyse patterns and classify tickets into the following five clusters based on their products/services:\n",
        "\n",
        "* Credit card / Prepaid card\n",
        "\n",
        "* Bank account services\n",
        "\n",
        "* Theft/Dispute reporting\n",
        "\n",
        "* Mortgages/loans\n",
        "\n",
        "* Others\n",
        "\n",
        "\n",
        "With the help of topic modelling, you will be able to map each ticket onto its respective department/category. You can then use this data to train any supervised model such as logistic regression, decision tree or random forest. Using this trained model, you can classify any new customer complaint support ticket into its relevant department."
      ]
    },
    {
      "cell_type": "markdown",
      "metadata": {
        "id": "mcgXVNyaLUFS"
      },
      "source": [
        "## Pipelines that needs to be performed:\n",
        "\n",
        "You need to perform the following eight major tasks to complete the assignment:\n",
        "\n",
        "1.  Data loading\n",
        "\n",
        "2. Text preprocessing\n",
        "\n",
        "3. Exploratory data analysis (EDA)\n",
        "\n",
        "4. Feature extraction\n",
        "\n",
        "5. Topic modelling\n",
        "\n",
        "6. Model building using supervised learning\n",
        "\n",
        "7. Model training and evaluation\n",
        "\n",
        "8. Model inference"
      ]
    },
    {
      "cell_type": "markdown",
      "metadata": {
        "id": "JuLFIymAL58u"
      },
      "source": [
        "## Importing the necessary libraries"
      ]
    },
    {
      "cell_type": "code",
      "execution_count": 1,
      "metadata": {
        "id": "O-Q9pqrcJrFr"
      },
      "outputs": [],
      "source": [
        "import json\n",
        "import numpy as np\n",
        "import pandas as pd\n",
        "import re, nltk, spacy, string\n",
        "import en_core_web_sm\n",
        "nlp = en_core_web_sm.load()\n",
        "import seaborn as sns\n",
        "import matplotlib.pyplot as plt\n",
        "%matplotlib inline\n",
        "\n",
        "from plotly.offline import plot\n",
        "import plotly.graph_objects as go\n",
        "import plotly.express as px\n",
        "\n",
        "from sklearn.feature_extraction.text import CountVectorizer, TfidfVectorizer\n",
        "from pprint import pprint"
      ]
    },
    {
      "cell_type": "markdown",
      "metadata": {
        "id": "KtRLCsNVJrFt"
      },
      "source": [
        "## Loading the data\n",
        "\n",
        "The data is in JSON format and we need to convert it to a dataframe."
      ]
    },
    {
      "cell_type": "code",
      "execution_count": 2,
      "metadata": {
        "id": "puVzIf_iJrFt"
      },
      "outputs": [],
      "source": [
        "# Opening JSON file\n",
        "f = open('complaints-2021-05-14_08_16.json')# Write the path to your data file and load it\n",
        "\n",
        "# returns JSON object as\n",
        "# a dictionary\n",
        "data = json.load(f)\n",
        "df=pd.json_normalize(data)"
      ]
    },
    {
      "cell_type": "markdown",
      "metadata": {
        "id": "_xYpH-sAJrFu"
      },
      "source": [
        "## Data preparation"
      ]
    },
    {
      "cell_type": "code",
      "execution_count": 3,
      "metadata": {
        "id": "Lf8ufHH5JrFu"
      },
      "outputs": [
        {
          "data": {
            "text/html": [
              "<div>\n",
              "<style scoped>\n",
              "    .dataframe tbody tr th:only-of-type {\n",
              "        vertical-align: middle;\n",
              "    }\n",
              "\n",
              "    .dataframe tbody tr th {\n",
              "        vertical-align: top;\n",
              "    }\n",
              "\n",
              "    .dataframe thead th {\n",
              "        text-align: right;\n",
              "    }\n",
              "</style>\n",
              "<table border=\"1\" class=\"dataframe\">\n",
              "  <thead>\n",
              "    <tr style=\"text-align: right;\">\n",
              "      <th></th>\n",
              "      <th>_index</th>\n",
              "      <th>_type</th>\n",
              "      <th>_id</th>\n",
              "      <th>_score</th>\n",
              "      <th>_source.tags</th>\n",
              "      <th>_source.zip_code</th>\n",
              "      <th>_source.complaint_id</th>\n",
              "      <th>_source.issue</th>\n",
              "      <th>_source.date_received</th>\n",
              "      <th>_source.state</th>\n",
              "      <th>...</th>\n",
              "      <th>_source.company_response</th>\n",
              "      <th>_source.company</th>\n",
              "      <th>_source.submitted_via</th>\n",
              "      <th>_source.date_sent_to_company</th>\n",
              "      <th>_source.company_public_response</th>\n",
              "      <th>_source.sub_product</th>\n",
              "      <th>_source.timely</th>\n",
              "      <th>_source.complaint_what_happened</th>\n",
              "      <th>_source.sub_issue</th>\n",
              "      <th>_source.consumer_consent_provided</th>\n",
              "    </tr>\n",
              "  </thead>\n",
              "  <tbody>\n",
              "    <tr>\n",
              "      <th>0</th>\n",
              "      <td>complaint-public-v2</td>\n",
              "      <td>complaint</td>\n",
              "      <td>3211475</td>\n",
              "      <td>0.0</td>\n",
              "      <td>None</td>\n",
              "      <td>90301</td>\n",
              "      <td>3211475</td>\n",
              "      <td>Attempts to collect debt not owed</td>\n",
              "      <td>2019-04-13T12:00:00-05:00</td>\n",
              "      <td>CA</td>\n",
              "      <td>...</td>\n",
              "      <td>Closed with explanation</td>\n",
              "      <td>JPMORGAN CHASE &amp; CO.</td>\n",
              "      <td>Web</td>\n",
              "      <td>2019-04-13T12:00:00-05:00</td>\n",
              "      <td>None</td>\n",
              "      <td>Credit card debt</td>\n",
              "      <td>Yes</td>\n",
              "      <td></td>\n",
              "      <td>Debt is not yours</td>\n",
              "      <td>Consent not provided</td>\n",
              "    </tr>\n",
              "    <tr>\n",
              "      <th>1</th>\n",
              "      <td>complaint-public-v2</td>\n",
              "      <td>complaint</td>\n",
              "      <td>3229299</td>\n",
              "      <td>0.0</td>\n",
              "      <td>Servicemember</td>\n",
              "      <td>319XX</td>\n",
              "      <td>3229299</td>\n",
              "      <td>Written notification about debt</td>\n",
              "      <td>2019-05-01T12:00:00-05:00</td>\n",
              "      <td>GA</td>\n",
              "      <td>...</td>\n",
              "      <td>Closed with explanation</td>\n",
              "      <td>JPMORGAN CHASE &amp; CO.</td>\n",
              "      <td>Web</td>\n",
              "      <td>2019-05-01T12:00:00-05:00</td>\n",
              "      <td>None</td>\n",
              "      <td>Credit card debt</td>\n",
              "      <td>Yes</td>\n",
              "      <td>Good morning my name is XXXX XXXX and I apprec...</td>\n",
              "      <td>Didn't receive enough information to verify debt</td>\n",
              "      <td>Consent provided</td>\n",
              "    </tr>\n",
              "    <tr>\n",
              "      <th>2</th>\n",
              "      <td>complaint-public-v2</td>\n",
              "      <td>complaint</td>\n",
              "      <td>3199379</td>\n",
              "      <td>0.0</td>\n",
              "      <td>None</td>\n",
              "      <td>77069</td>\n",
              "      <td>3199379</td>\n",
              "      <td>Other features, terms, or problems</td>\n",
              "      <td>2019-04-02T12:00:00-05:00</td>\n",
              "      <td>TX</td>\n",
              "      <td>...</td>\n",
              "      <td>Closed with explanation</td>\n",
              "      <td>JPMORGAN CHASE &amp; CO.</td>\n",
              "      <td>Web</td>\n",
              "      <td>2019-04-02T12:00:00-05:00</td>\n",
              "      <td>None</td>\n",
              "      <td>General-purpose credit card or charge card</td>\n",
              "      <td>Yes</td>\n",
              "      <td>I upgraded my XXXX XXXX card in XX/XX/2018 and...</td>\n",
              "      <td>Problem with rewards from credit card</td>\n",
              "      <td>Consent provided</td>\n",
              "    </tr>\n",
              "    <tr>\n",
              "      <th>3</th>\n",
              "      <td>complaint-public-v2</td>\n",
              "      <td>complaint</td>\n",
              "      <td>2673060</td>\n",
              "      <td>0.0</td>\n",
              "      <td>None</td>\n",
              "      <td>48066</td>\n",
              "      <td>2673060</td>\n",
              "      <td>Trouble during payment process</td>\n",
              "      <td>2017-09-13T12:00:00-05:00</td>\n",
              "      <td>MI</td>\n",
              "      <td>...</td>\n",
              "      <td>Closed with explanation</td>\n",
              "      <td>JPMORGAN CHASE &amp; CO.</td>\n",
              "      <td>Web</td>\n",
              "      <td>2017-09-14T12:00:00-05:00</td>\n",
              "      <td>None</td>\n",
              "      <td>Conventional home mortgage</td>\n",
              "      <td>Yes</td>\n",
              "      <td></td>\n",
              "      <td>None</td>\n",
              "      <td>Consent not provided</td>\n",
              "    </tr>\n",
              "    <tr>\n",
              "      <th>4</th>\n",
              "      <td>complaint-public-v2</td>\n",
              "      <td>complaint</td>\n",
              "      <td>3203545</td>\n",
              "      <td>0.0</td>\n",
              "      <td>None</td>\n",
              "      <td>10473</td>\n",
              "      <td>3203545</td>\n",
              "      <td>Fees or interest</td>\n",
              "      <td>2019-04-05T12:00:00-05:00</td>\n",
              "      <td>NY</td>\n",
              "      <td>...</td>\n",
              "      <td>Closed with explanation</td>\n",
              "      <td>JPMORGAN CHASE &amp; CO.</td>\n",
              "      <td>Referral</td>\n",
              "      <td>2019-04-05T12:00:00-05:00</td>\n",
              "      <td>None</td>\n",
              "      <td>General-purpose credit card or charge card</td>\n",
              "      <td>Yes</td>\n",
              "      <td></td>\n",
              "      <td>Charged too much interest</td>\n",
              "      <td>N/A</td>\n",
              "    </tr>\n",
              "  </tbody>\n",
              "</table>\n",
              "<p>5 rows × 22 columns</p>\n",
              "</div>"
            ],
            "text/plain": [
              "                _index      _type      _id  _score   _source.tags  \\\n",
              "0  complaint-public-v2  complaint  3211475     0.0           None   \n",
              "1  complaint-public-v2  complaint  3229299     0.0  Servicemember   \n",
              "2  complaint-public-v2  complaint  3199379     0.0           None   \n",
              "3  complaint-public-v2  complaint  2673060     0.0           None   \n",
              "4  complaint-public-v2  complaint  3203545     0.0           None   \n",
              "\n",
              "  _source.zip_code _source.complaint_id                       _source.issue  \\\n",
              "0            90301              3211475   Attempts to collect debt not owed   \n",
              "1            319XX              3229299     Written notification about debt   \n",
              "2            77069              3199379  Other features, terms, or problems   \n",
              "3            48066              2673060      Trouble during payment process   \n",
              "4            10473              3203545                    Fees or interest   \n",
              "\n",
              "       _source.date_received _source.state  ... _source.company_response  \\\n",
              "0  2019-04-13T12:00:00-05:00            CA  ...  Closed with explanation   \n",
              "1  2019-05-01T12:00:00-05:00            GA  ...  Closed with explanation   \n",
              "2  2019-04-02T12:00:00-05:00            TX  ...  Closed with explanation   \n",
              "3  2017-09-13T12:00:00-05:00            MI  ...  Closed with explanation   \n",
              "4  2019-04-05T12:00:00-05:00            NY  ...  Closed with explanation   \n",
              "\n",
              "        _source.company _source.submitted_via _source.date_sent_to_company  \\\n",
              "0  JPMORGAN CHASE & CO.                   Web    2019-04-13T12:00:00-05:00   \n",
              "1  JPMORGAN CHASE & CO.                   Web    2019-05-01T12:00:00-05:00   \n",
              "2  JPMORGAN CHASE & CO.                   Web    2019-04-02T12:00:00-05:00   \n",
              "3  JPMORGAN CHASE & CO.                   Web    2017-09-14T12:00:00-05:00   \n",
              "4  JPMORGAN CHASE & CO.              Referral    2019-04-05T12:00:00-05:00   \n",
              "\n",
              "  _source.company_public_response                         _source.sub_product  \\\n",
              "0                            None                            Credit card debt   \n",
              "1                            None                            Credit card debt   \n",
              "2                            None  General-purpose credit card or charge card   \n",
              "3                            None                  Conventional home mortgage   \n",
              "4                            None  General-purpose credit card or charge card   \n",
              "\n",
              "  _source.timely                    _source.complaint_what_happened  \\\n",
              "0            Yes                                                      \n",
              "1            Yes  Good morning my name is XXXX XXXX and I apprec...   \n",
              "2            Yes  I upgraded my XXXX XXXX card in XX/XX/2018 and...   \n",
              "3            Yes                                                      \n",
              "4            Yes                                                      \n",
              "\n",
              "                                  _source.sub_issue  \\\n",
              "0                                 Debt is not yours   \n",
              "1  Didn't receive enough information to verify debt   \n",
              "2             Problem with rewards from credit card   \n",
              "3                                              None   \n",
              "4                         Charged too much interest   \n",
              "\n",
              "  _source.consumer_consent_provided  \n",
              "0              Consent not provided  \n",
              "1                  Consent provided  \n",
              "2                  Consent provided  \n",
              "3              Consent not provided  \n",
              "4                               N/A  \n",
              "\n",
              "[5 rows x 22 columns]"
            ]
          },
          "execution_count": 3,
          "metadata": {},
          "output_type": "execute_result"
        }
      ],
      "source": [
        "# Inspect the dataframe to understand the given data.\n",
        "df.head()\n"
      ]
    },
    {
      "cell_type": "code",
      "execution_count": 4,
      "metadata": {},
      "outputs": [
        {
          "data": {
            "text/plain": [
              "(78313, 22)"
            ]
          },
          "execution_count": 4,
          "metadata": {},
          "output_type": "execute_result"
        }
      ],
      "source": [
        "# shape of the dataframe\n",
        "df.shape"
      ]
    },
    {
      "cell_type": "code",
      "execution_count": 5,
      "metadata": {
        "id": "Dwcty-wmJrFw"
      },
      "outputs": [
        {
          "data": {
            "text/plain": [
              "Index(['_index', '_type', '_id', '_score', '_source.tags', '_source.zip_code',\n",
              "       '_source.complaint_id', '_source.issue', '_source.date_received',\n",
              "       '_source.state', '_source.consumer_disputed', '_source.product',\n",
              "       '_source.company_response', '_source.company', '_source.submitted_via',\n",
              "       '_source.date_sent_to_company', '_source.company_public_response',\n",
              "       '_source.sub_product', '_source.timely',\n",
              "       '_source.complaint_what_happened', '_source.sub_issue',\n",
              "       '_source.consumer_consent_provided'],\n",
              "      dtype='object')"
            ]
          },
          "execution_count": 5,
          "metadata": {},
          "output_type": "execute_result"
        }
      ],
      "source": [
        "#print the column names\n",
        "df.columns\n"
      ]
    },
    {
      "cell_type": "code",
      "execution_count": 6,
      "metadata": {
        "id": "FYCtKXD1JrFw"
      },
      "outputs": [
        {
          "data": {
            "text/html": [
              "<div>\n",
              "<style scoped>\n",
              "    .dataframe tbody tr th:only-of-type {\n",
              "        vertical-align: middle;\n",
              "    }\n",
              "\n",
              "    .dataframe tbody tr th {\n",
              "        vertical-align: top;\n",
              "    }\n",
              "\n",
              "    .dataframe thead th {\n",
              "        text-align: right;\n",
              "    }\n",
              "</style>\n",
              "<table border=\"1\" class=\"dataframe\">\n",
              "  <thead>\n",
              "    <tr style=\"text-align: right;\">\n",
              "      <th></th>\n",
              "      <th>complaint_text</th>\n",
              "      <th>product</th>\n",
              "      <th>sub_product</th>\n",
              "    </tr>\n",
              "  </thead>\n",
              "  <tbody>\n",
              "    <tr>\n",
              "      <th>0</th>\n",
              "      <td></td>\n",
              "      <td>Debt collection</td>\n",
              "      <td>Credit card debt</td>\n",
              "    </tr>\n",
              "    <tr>\n",
              "      <th>1</th>\n",
              "      <td>Good morning my name is XXXX XXXX and I apprec...</td>\n",
              "      <td>Debt collection</td>\n",
              "      <td>Credit card debt</td>\n",
              "    </tr>\n",
              "    <tr>\n",
              "      <th>2</th>\n",
              "      <td>I upgraded my XXXX XXXX card in XX/XX/2018 and...</td>\n",
              "      <td>Credit card or prepaid card</td>\n",
              "      <td>General-purpose credit card or charge card</td>\n",
              "    </tr>\n",
              "    <tr>\n",
              "      <th>3</th>\n",
              "      <td></td>\n",
              "      <td>Mortgage</td>\n",
              "      <td>Conventional home mortgage</td>\n",
              "    </tr>\n",
              "    <tr>\n",
              "      <th>4</th>\n",
              "      <td></td>\n",
              "      <td>Credit card or prepaid card</td>\n",
              "      <td>General-purpose credit card or charge card</td>\n",
              "    </tr>\n",
              "  </tbody>\n",
              "</table>\n",
              "</div>"
            ],
            "text/plain": [
              "                                      complaint_text  \\\n",
              "0                                                      \n",
              "1  Good morning my name is XXXX XXXX and I apprec...   \n",
              "2  I upgraded my XXXX XXXX card in XX/XX/2018 and...   \n",
              "3                                                      \n",
              "4                                                      \n",
              "\n",
              "                       product                                 sub_product  \n",
              "0              Debt collection                            Credit card debt  \n",
              "1              Debt collection                            Credit card debt  \n",
              "2  Credit card or prepaid card  General-purpose credit card or charge card  \n",
              "3                     Mortgage                  Conventional home mortgage  \n",
              "4  Credit card or prepaid card  General-purpose credit card or charge card  "
            ]
          },
          "execution_count": 6,
          "metadata": {},
          "output_type": "execute_result"
        }
      ],
      "source": [
        "#Assign new column names\n",
        "\n",
        "# Selecting only the required columns\n",
        "df = df[['_source.complaint_what_happened','_source.product','_source.sub_product',]]\n",
        "\n",
        "# Renaming columns for better readability\n",
        "df.rename(columns={\"_source.complaint_what_happened\": \"complaint_text\",\n",
        "                   \"_source.product\": \"product\",\n",
        "                   \"_source.sub_product\": \"sub_product\"}, inplace=True)\n",
        "\n",
        "df.head()"
      ]
    },
    {
      "cell_type": "code",
      "execution_count": 7,
      "metadata": {
        "id": "grQUPFL5JrFx"
      },
      "outputs": [],
      "source": [
        "#Assign nan in place of blanks in the complaints column\n",
        "df['complaint_text'] = df['complaint_text'].replace('', np.nan)\n",
        "\n"
      ]
    },
    {
      "cell_type": "code",
      "execution_count": 8,
      "metadata": {
        "id": "Jfxd8VSmJrFy"
      },
      "outputs": [
        {
          "data": {
            "text/html": [
              "<div>\n",
              "<style scoped>\n",
              "    .dataframe tbody tr th:only-of-type {\n",
              "        vertical-align: middle;\n",
              "    }\n",
              "\n",
              "    .dataframe tbody tr th {\n",
              "        vertical-align: top;\n",
              "    }\n",
              "\n",
              "    .dataframe thead th {\n",
              "        text-align: right;\n",
              "    }\n",
              "</style>\n",
              "<table border=\"1\" class=\"dataframe\">\n",
              "  <thead>\n",
              "    <tr style=\"text-align: right;\">\n",
              "      <th></th>\n",
              "      <th>complaint_text</th>\n",
              "      <th>product</th>\n",
              "      <th>sub_product</th>\n",
              "    </tr>\n",
              "  </thead>\n",
              "  <tbody>\n",
              "    <tr>\n",
              "      <th>1</th>\n",
              "      <td>Good morning my name is XXXX XXXX and I apprec...</td>\n",
              "      <td>Debt collection</td>\n",
              "      <td>Credit card debt</td>\n",
              "    </tr>\n",
              "    <tr>\n",
              "      <th>2</th>\n",
              "      <td>I upgraded my XXXX XXXX card in XX/XX/2018 and...</td>\n",
              "      <td>Credit card or prepaid card</td>\n",
              "      <td>General-purpose credit card or charge card</td>\n",
              "    </tr>\n",
              "    <tr>\n",
              "      <th>10</th>\n",
              "      <td>Chase Card was reported on XX/XX/2019. However...</td>\n",
              "      <td>Credit reporting, credit repair services, or o...</td>\n",
              "      <td>Other personal consumer report</td>\n",
              "    </tr>\n",
              "    <tr>\n",
              "      <th>11</th>\n",
              "      <td>On XX/XX/2018, while trying to book a XXXX  XX...</td>\n",
              "      <td>Credit reporting, credit repair services, or o...</td>\n",
              "      <td>Credit reporting</td>\n",
              "    </tr>\n",
              "    <tr>\n",
              "      <th>14</th>\n",
              "      <td>my grand son give me check for {$1600.00} i de...</td>\n",
              "      <td>Checking or savings account</td>\n",
              "      <td>Checking account</td>\n",
              "    </tr>\n",
              "  </tbody>\n",
              "</table>\n",
              "</div>"
            ],
            "text/plain": [
              "                                       complaint_text  \\\n",
              "1   Good morning my name is XXXX XXXX and I apprec...   \n",
              "2   I upgraded my XXXX XXXX card in XX/XX/2018 and...   \n",
              "10  Chase Card was reported on XX/XX/2019. However...   \n",
              "11  On XX/XX/2018, while trying to book a XXXX  XX...   \n",
              "14  my grand son give me check for {$1600.00} i de...   \n",
              "\n",
              "                                              product  \\\n",
              "1                                     Debt collection   \n",
              "2                         Credit card or prepaid card   \n",
              "10  Credit reporting, credit repair services, or o...   \n",
              "11  Credit reporting, credit repair services, or o...   \n",
              "14                        Checking or savings account   \n",
              "\n",
              "                                   sub_product  \n",
              "1                             Credit card debt  \n",
              "2   General-purpose credit card or charge card  \n",
              "10              Other personal consumer report  \n",
              "11                            Credit reporting  \n",
              "14                            Checking account  "
            ]
          },
          "execution_count": 8,
          "metadata": {},
          "output_type": "execute_result"
        }
      ],
      "source": [
        "#Remove all rows where complaints column is nan\n",
        "df = df[df['complaint_text'].notna()]\n",
        "\n",
        "df.complaint_text.isnull().sum()\n",
        "\n",
        "df.head()\n"
      ]
    },
    {
      "cell_type": "markdown",
      "metadata": {
        "id": "L944HZpsJrFy"
      },
      "source": [
        "## Prepare the text for topic modeling\n",
        "\n",
        "Once you have removed all the blank complaints, you need to:\n",
        "\n",
        "* Make the text lowercase\n",
        "* Remove text in square brackets\n",
        "* Remove punctuation\n",
        "* Remove words containing numbers\n",
        "\n",
        "\n",
        "Once you have done these cleaning operations you need to perform the following:\n",
        "* Lemmatize the texts\n",
        "* Extract the POS tags of the lemmatized text and remove all the words which have tags other than NN[tag == \"NN\"].\n"
      ]
    },
    {
      "cell_type": "code",
      "execution_count": 9,
      "metadata": {
        "id": "qm7SjjSkJrFz"
      },
      "outputs": [],
      "source": [
        "# Write your function here to clean the text and remove all the unnecessary elements.\n",
        "def clean_text(text):\n",
        "    # Make text lowercase\n",
        "    text = text.lower()\n",
        "    # Remove text in square brackets\n",
        "    text = re.sub(r'\\[.*?\\]', '', text)\n",
        "    # Remove punctuations\n",
        "    text = text.translate(str.maketrans('', '', string.punctuation))\n",
        "    # Remove numbers\n",
        "    text = re.sub(r'\\d+', '', text)\n",
        "    # Remove extra whitespace\n",
        "    return text.strip()"
      ]
    },
    {
      "cell_type": "code",
      "execution_count": 10,
      "metadata": {},
      "outputs": [
        {
          "data": {
            "text/html": [
              "<div>\n",
              "<style scoped>\n",
              "    .dataframe tbody tr th:only-of-type {\n",
              "        vertical-align: middle;\n",
              "    }\n",
              "\n",
              "    .dataframe tbody tr th {\n",
              "        vertical-align: top;\n",
              "    }\n",
              "\n",
              "    .dataframe thead th {\n",
              "        text-align: right;\n",
              "    }\n",
              "</style>\n",
              "<table border=\"1\" class=\"dataframe\">\n",
              "  <thead>\n",
              "    <tr style=\"text-align: right;\">\n",
              "      <th></th>\n",
              "      <th>complaint_text</th>\n",
              "      <th>product</th>\n",
              "      <th>sub_product</th>\n",
              "      <th>cleaned_text</th>\n",
              "    </tr>\n",
              "  </thead>\n",
              "  <tbody>\n",
              "    <tr>\n",
              "      <th>1</th>\n",
              "      <td>Good morning my name is XXXX XXXX and I apprec...</td>\n",
              "      <td>Debt collection</td>\n",
              "      <td>Credit card debt</td>\n",
              "      <td>good morning my name is xxxx xxxx and i apprec...</td>\n",
              "    </tr>\n",
              "    <tr>\n",
              "      <th>2</th>\n",
              "      <td>I upgraded my XXXX XXXX card in XX/XX/2018 and...</td>\n",
              "      <td>Credit card or prepaid card</td>\n",
              "      <td>General-purpose credit card or charge card</td>\n",
              "      <td>i upgraded my xxxx xxxx card in xxxx and was t...</td>\n",
              "    </tr>\n",
              "    <tr>\n",
              "      <th>10</th>\n",
              "      <td>Chase Card was reported on XX/XX/2019. However...</td>\n",
              "      <td>Credit reporting, credit repair services, or o...</td>\n",
              "      <td>Other personal consumer report</td>\n",
              "      <td>chase card was reported on xxxx however fraudu...</td>\n",
              "    </tr>\n",
              "    <tr>\n",
              "      <th>11</th>\n",
              "      <td>On XX/XX/2018, while trying to book a XXXX  XX...</td>\n",
              "      <td>Credit reporting, credit repair services, or o...</td>\n",
              "      <td>Credit reporting</td>\n",
              "      <td>on xxxx while trying to book a xxxx  xxxx  tic...</td>\n",
              "    </tr>\n",
              "    <tr>\n",
              "      <th>14</th>\n",
              "      <td>my grand son give me check for {$1600.00} i de...</td>\n",
              "      <td>Checking or savings account</td>\n",
              "      <td>Checking account</td>\n",
              "      <td>my grand son give me check for  i deposit it i...</td>\n",
              "    </tr>\n",
              "  </tbody>\n",
              "</table>\n",
              "</div>"
            ],
            "text/plain": [
              "                                       complaint_text  \\\n",
              "1   Good morning my name is XXXX XXXX and I apprec...   \n",
              "2   I upgraded my XXXX XXXX card in XX/XX/2018 and...   \n",
              "10  Chase Card was reported on XX/XX/2019. However...   \n",
              "11  On XX/XX/2018, while trying to book a XXXX  XX...   \n",
              "14  my grand son give me check for {$1600.00} i de...   \n",
              "\n",
              "                                              product  \\\n",
              "1                                     Debt collection   \n",
              "2                         Credit card or prepaid card   \n",
              "10  Credit reporting, credit repair services, or o...   \n",
              "11  Credit reporting, credit repair services, or o...   \n",
              "14                        Checking or savings account   \n",
              "\n",
              "                                   sub_product  \\\n",
              "1                             Credit card debt   \n",
              "2   General-purpose credit card or charge card   \n",
              "10              Other personal consumer report   \n",
              "11                            Credit reporting   \n",
              "14                            Checking account   \n",
              "\n",
              "                                         cleaned_text  \n",
              "1   good morning my name is xxxx xxxx and i apprec...  \n",
              "2   i upgraded my xxxx xxxx card in xxxx and was t...  \n",
              "10  chase card was reported on xxxx however fraudu...  \n",
              "11  on xxxx while trying to book a xxxx  xxxx  tic...  \n",
              "14  my grand son give me check for  i deposit it i...  "
            ]
          },
          "execution_count": 10,
          "metadata": {},
          "output_type": "execute_result"
        }
      ],
      "source": [
        "df['cleaned_text'] = df['complaint_text'].apply(clean_text)\n",
        "df.head()\n"
      ]
    },
    {
      "cell_type": "code",
      "execution_count": 11,
      "metadata": {
        "id": "zgOu8t8HJrFz"
      },
      "outputs": [
        {
          "name": "stderr",
          "output_type": "stream",
          "text": [
            "[nltk_data] Downloading package wordnet to\n",
            "[nltk_data]     /Users/rishabhsaha/nltk_data...\n",
            "[nltk_data]   Package wordnet is already up-to-date!\n"
          ]
        }
      ],
      "source": [
        "#Write your function to Lemmatize the texts\n",
        "import nltk\n",
        "nltk.download('wordnet')\n",
        "from nltk.stem import WordNetLemmatizer\n",
        "from nltk.tokenize import word_tokenize\n",
        "\n",
        "def lemmatize_text(text):\n",
        "    tokens = word_tokenize(text)\n",
        "    lemmatizer = WordNetLemmatizer()\n",
        "    # Lemmatize each token in the text\n",
        "    lemmatized_text = [lemmatizer.lemmatize(token) for token in tokens]\n",
        "    return ' '.join(lemmatized_text)\n"
      ]
    },
    {
      "cell_type": "code",
      "execution_count": 12,
      "metadata": {
        "id": "uXnN7aa_JrF0"
      },
      "outputs": [
        {
          "name": "stdout",
          "output_type": "stream",
          "text": [
            "CPU times: user 21.6 s, sys: 160 ms, total: 21.7 s\n",
            "Wall time: 21.8 s\n"
          ]
        }
      ],
      "source": [
        "%%time\n",
        "#Create a dataframe('df_clean') that will have only the complaints and the lemmatized complaints\n",
        "\n",
        "# Apply the lemmatization function to the cleaned text\n",
        "df['lemmatized_complaints'] = df['cleaned_text'].apply(lemmatize_text)"
      ]
    },
    {
      "cell_type": "code",
      "execution_count": 13,
      "metadata": {
        "id": "nOiDVvEIJrF0"
      },
      "outputs": [
        {
          "data": {
            "text/html": [
              "<div>\n",
              "<style scoped>\n",
              "    .dataframe tbody tr th:only-of-type {\n",
              "        vertical-align: middle;\n",
              "    }\n",
              "\n",
              "    .dataframe tbody tr th {\n",
              "        vertical-align: top;\n",
              "    }\n",
              "\n",
              "    .dataframe thead th {\n",
              "        text-align: right;\n",
              "    }\n",
              "</style>\n",
              "<table border=\"1\" class=\"dataframe\">\n",
              "  <thead>\n",
              "    <tr style=\"text-align: right;\">\n",
              "      <th></th>\n",
              "      <th>complaint_text</th>\n",
              "      <th>lemmatized_complaints</th>\n",
              "    </tr>\n",
              "  </thead>\n",
              "  <tbody>\n",
              "    <tr>\n",
              "      <th>1</th>\n",
              "      <td>Good morning my name is XXXX XXXX and I apprec...</td>\n",
              "      <td>good morning my name is xxxx xxxx and i apprec...</td>\n",
              "    </tr>\n",
              "    <tr>\n",
              "      <th>2</th>\n",
              "      <td>I upgraded my XXXX XXXX card in XX/XX/2018 and...</td>\n",
              "      <td>i upgraded my xxxx xxxx card in xxxx and wa to...</td>\n",
              "    </tr>\n",
              "    <tr>\n",
              "      <th>10</th>\n",
              "      <td>Chase Card was reported on XX/XX/2019. However...</td>\n",
              "      <td>chase card wa reported on xxxx however fraudul...</td>\n",
              "    </tr>\n",
              "    <tr>\n",
              "      <th>11</th>\n",
              "      <td>On XX/XX/2018, while trying to book a XXXX  XX...</td>\n",
              "      <td>on xxxx while trying to book a xxxx xxxx ticke...</td>\n",
              "    </tr>\n",
              "    <tr>\n",
              "      <th>14</th>\n",
              "      <td>my grand son give me check for {$1600.00} i de...</td>\n",
              "      <td>my grand son give me check for i deposit it in...</td>\n",
              "    </tr>\n",
              "  </tbody>\n",
              "</table>\n",
              "</div>"
            ],
            "text/plain": [
              "                                       complaint_text  \\\n",
              "1   Good morning my name is XXXX XXXX and I apprec...   \n",
              "2   I upgraded my XXXX XXXX card in XX/XX/2018 and...   \n",
              "10  Chase Card was reported on XX/XX/2019. However...   \n",
              "11  On XX/XX/2018, while trying to book a XXXX  XX...   \n",
              "14  my grand son give me check for {$1600.00} i de...   \n",
              "\n",
              "                                lemmatized_complaints  \n",
              "1   good morning my name is xxxx xxxx and i apprec...  \n",
              "2   i upgraded my xxxx xxxx card in xxxx and wa to...  \n",
              "10  chase card wa reported on xxxx however fraudul...  \n",
              "11  on xxxx while trying to book a xxxx xxxx ticke...  \n",
              "14  my grand son give me check for i deposit it in...  "
            ]
          },
          "execution_count": 13,
          "metadata": {},
          "output_type": "execute_result"
        }
      ],
      "source": [
        "df_clean = df[['complaint_text', 'lemmatized_complaints']]\n",
        "df_clean.head()"
      ]
    },
    {
      "cell_type": "code",
      "execution_count": 14,
      "metadata": {
        "id": "Kk7fc4DuJrF1"
      },
      "outputs": [
        {
          "name": "stdout",
          "output_type": "stream",
          "text": [
            "CPU times: user 18min 8s, sys: 22.7 s, total: 18min 30s\n",
            "Wall time: 21min 51s\n"
          ]
        },
        {
          "name": "stderr",
          "output_type": "stream",
          "text": [
            "<timed exec>:9: SettingWithCopyWarning:\n",
            "\n",
            "\n",
            "A value is trying to be set on a copy of a slice from a DataFrame.\n",
            "Try using .loc[row_indexer,col_indexer] = value instead\n",
            "\n",
            "See the caveats in the documentation: https://pandas.pydata.org/pandas-docs/stable/user_guide/indexing.html#returning-a-view-versus-a-copy\n",
            "\n"
          ]
        }
      ],
      "source": [
        "%%time\n",
        "#Write your function to extract the POS tags\n",
        "nlp = spacy.load(\"en_core_web_sm\")\n",
        "def pos_tag(text):\n",
        "  # write your code here\n",
        "  doc = nlp(text)\n",
        "  sent = [token.text for token in doc if token.tag_ == 'NN']\n",
        "  return ' '.join(sent)\n",
        "\n",
        "df_clean[\"complaint_POS_removed\"] = df_clean[\"lemmatized_complaints\"].apply(pos_tag)\n"
      ]
    },
    {
      "cell_type": "code",
      "execution_count": 15,
      "metadata": {
        "id": "AjxfchvFJrF2"
      },
      "outputs": [
        {
          "data": {
            "text/html": [
              "<div>\n",
              "<style scoped>\n",
              "    .dataframe tbody tr th:only-of-type {\n",
              "        vertical-align: middle;\n",
              "    }\n",
              "\n",
              "    .dataframe tbody tr th {\n",
              "        vertical-align: top;\n",
              "    }\n",
              "\n",
              "    .dataframe thead th {\n",
              "        text-align: right;\n",
              "    }\n",
              "</style>\n",
              "<table border=\"1\" class=\"dataframe\">\n",
              "  <thead>\n",
              "    <tr style=\"text-align: right;\">\n",
              "      <th></th>\n",
              "      <th>complaint_text</th>\n",
              "      <th>lemmatized_complaints</th>\n",
              "      <th>complaint_POS_removed</th>\n",
              "    </tr>\n",
              "  </thead>\n",
              "  <tbody>\n",
              "    <tr>\n",
              "      <th>1</th>\n",
              "      <td>Good morning my name is XXXX XXXX and I apprec...</td>\n",
              "      <td>good morning my name is xxxx xxxx and i apprec...</td>\n",
              "      <td>morning name stop debt verification statement ...</td>\n",
              "    </tr>\n",
              "    <tr>\n",
              "      <th>2</th>\n",
              "      <td>I upgraded my XXXX XXXX card in XX/XX/2018 and...</td>\n",
              "      <td>i upgraded my xxxx xxxx card in xxxx and wa to...</td>\n",
              "      <td>card agent anniversary date agent wa informati...</td>\n",
              "    </tr>\n",
              "    <tr>\n",
              "      <th>10</th>\n",
              "      <td>Chase Card was reported on XX/XX/2019. However...</td>\n",
              "      <td>chase card wa reported on xxxx however fraudul...</td>\n",
              "      <td>card application identity consent service cred...</td>\n",
              "    </tr>\n",
              "    <tr>\n",
              "      <th>11</th>\n",
              "      <td>On XX/XX/2018, while trying to book a XXXX  XX...</td>\n",
              "      <td>on xxxx while trying to book a xxxx xxxx ticke...</td>\n",
              "      <td>ticket offer ticket reward card information of...</td>\n",
              "    </tr>\n",
              "    <tr>\n",
              "      <th>14</th>\n",
              "      <td>my grand son give me check for {$1600.00} i de...</td>\n",
              "      <td>my grand son give me check for i deposit it in...</td>\n",
              "      <td>son check chase account fund chase bank accoun...</td>\n",
              "    </tr>\n",
              "  </tbody>\n",
              "</table>\n",
              "</div>"
            ],
            "text/plain": [
              "                                       complaint_text  \\\n",
              "1   Good morning my name is XXXX XXXX and I apprec...   \n",
              "2   I upgraded my XXXX XXXX card in XX/XX/2018 and...   \n",
              "10  Chase Card was reported on XX/XX/2019. However...   \n",
              "11  On XX/XX/2018, while trying to book a XXXX  XX...   \n",
              "14  my grand son give me check for {$1600.00} i de...   \n",
              "\n",
              "                                lemmatized_complaints  \\\n",
              "1   good morning my name is xxxx xxxx and i apprec...   \n",
              "2   i upgraded my xxxx xxxx card in xxxx and wa to...   \n",
              "10  chase card wa reported on xxxx however fraudul...   \n",
              "11  on xxxx while trying to book a xxxx xxxx ticke...   \n",
              "14  my grand son give me check for i deposit it in...   \n",
              "\n",
              "                                complaint_POS_removed  \n",
              "1   morning name stop debt verification statement ...  \n",
              "2   card agent anniversary date agent wa informati...  \n",
              "10  card application identity consent service cred...  \n",
              "11  ticket offer ticket reward card information of...  \n",
              "14  son check chase account fund chase bank accoun...  "
            ]
          },
          "execution_count": 15,
          "metadata": {},
          "output_type": "execute_result"
        }
      ],
      "source": [
        "#The clean dataframe should now contain the raw complaint, lemmatized complaint and the complaint after removing POS tags.\n",
        "df_clean.head()"
      ]
    },
    {
      "cell_type": "markdown",
      "metadata": {
        "id": "_7Un1AElJrF2"
      },
      "source": [
        "## Exploratory data analysis to get familiar with the data.\n",
        "\n",
        "Write the code in this task to perform the following:\n",
        "\n",
        "*   Visualise the data according to the 'Complaint' character length\n",
        "*   Using a word cloud find the top 40 words by frequency among all the articles after processing the text\n",
        "*   Find the top unigrams,bigrams and trigrams by frequency among all the complaints after processing the text. ‘\n",
        "\n",
        "\n"
      ]
    },
    {
      "cell_type": "code",
      "execution_count": 16,
      "metadata": {
        "id": "q-zaqJF6JrF2"
      },
      "outputs": [
        {
          "name": "stderr",
          "output_type": "stream",
          "text": [
            "/var/folders/7d/_tknpwq147sc6bnrbrx98d6c0000gn/T/ipykernel_99174/1334622774.py:3: SettingWithCopyWarning:\n",
            "\n",
            "\n",
            "A value is trying to be set on a copy of a slice from a DataFrame.\n",
            "Try using .loc[row_indexer,col_indexer] = value instead\n",
            "\n",
            "See the caveats in the documentation: https://pandas.pydata.org/pandas-docs/stable/user_guide/indexing.html#returning-a-view-versus-a-copy\n",
            "\n"
          ]
        },
        {
          "data": {
            "image/png": "[encoded data removed]",
            "text/plain": [
              "<Figure size 1000x600 with 1 Axes>"
            ]
          },
          "metadata": {},
          "output_type": "display_data"
        }
      ],
      "source": [
        "# Write your code here to visualise the data according to the 'Complaint' character length\n",
        "\n",
        "df_clean['complaint_length'] = df_clean['complaint_text'].apply(len)\n",
        "\n",
        "plt.figure(figsize=(10, 6))\n",
        "sns.histplot(df_clean['complaint_length'], bins=30, kde=True)\n",
        "plt.title('Distribution of Complaint Character Length')\n",
        "plt.xlabel('Character Length of Complaint')\n",
        "plt.ylabel('Frequency')\n",
        "plt.show()"
      ]
    },
    {
      "cell_type": "markdown",
      "metadata": {
        "id": "T9jD_6SeJrF3"
      },
      "source": [
        "#### Find the top 40 words by frequency among all the articles after processing the text."
      ]
    },
    {
      "cell_type": "code",
      "execution_count": 17,
      "metadata": {},
      "outputs": [
        {
          "name": "stdout",
          "output_type": "stream",
          "text": [
            "Requirement already satisfied: wordcloud in /opt/anaconda3/lib/python3.11/site-packages (1.9.4)\n",
            "Requirement already satisfied: numpy>=1.6.1 in /opt/anaconda3/lib/python3.11/site-packages (from wordcloud) (1.24.4)\n",
            "Requirement already satisfied: pillow in /opt/anaconda3/lib/python3.11/site-packages (from wordcloud) (10.2.0)\n",
            "Requirement already satisfied: matplotlib in /opt/anaconda3/lib/python3.11/site-packages (from wordcloud) (3.8.0)\n",
            "Requirement already satisfied: contourpy>=1.0.1 in /opt/anaconda3/lib/python3.11/site-packages (from matplotlib->wordcloud) (1.2.0)\n",
            "Requirement already satisfied: cycler>=0.10 in /opt/anaconda3/lib/python3.11/site-packages (from matplotlib->wordcloud) (0.11.0)\n",
            "Requirement already satisfied: fonttools>=4.22.0 in /opt/anaconda3/lib/python3.11/site-packages (from matplotlib->wordcloud) (4.25.0)\n",
            "Requirement already satisfied: kiwisolver>=1.0.1 in /opt/anaconda3/lib/python3.11/site-packages (from matplotlib->wordcloud) (1.4.4)\n",
            "Requirement already satisfied: packaging>=20.0 in /opt/anaconda3/lib/python3.11/site-packages (from matplotlib->wordcloud) (23.1)\n",
            "Requirement already satisfied: pyparsing>=2.3.1 in /opt/anaconda3/lib/python3.11/site-packages (from matplotlib->wordcloud) (3.0.9)\n",
            "Requirement already satisfied: python-dateutil>=2.7 in /opt/anaconda3/lib/python3.11/site-packages (from matplotlib->wordcloud) (2.8.2)\n",
            "Requirement already satisfied: six>=1.5 in /opt/anaconda3/lib/python3.11/site-packages (from python-dateutil>=2.7->matplotlib->wordcloud) (1.16.0)\n",
            "Note: you may need to restart the kernel to use updated packages.\n"
          ]
        }
      ],
      "source": [
        "%pip install wordcloud"
      ]
    },
    {
      "cell_type": "code",
      "execution_count": 18,
      "metadata": {
        "id": "QcfdvtfZJrF3"
      },
      "outputs": [
        {
          "data": {
            "image/png": "[encoded data removed]",
            "text/plain": [
              "<Figure size 1000x600 with 1 Axes>"
            ]
          },
          "metadata": {},
          "output_type": "display_data"
        }
      ],
      "source": [
        "#Using a word cloud find the top 40 words by frequency among all the articles after processing the text\n",
        "\n",
        "from wordcloud import WordCloud\n",
        "\n",
        "all_complaints = ' '.join(df_clean['lemmatized_complaints'])\n",
        "wordcloud = WordCloud(width=800, height=400, background_color='white', max_words=40).generate(all_complaints)\n",
        "\n",
        "plt.figure(figsize=(10, 6))\n",
        "plt.imshow(wordcloud, interpolation='bilinear')\n",
        "plt.axis('off')\n",
        "plt.title('Top 40 Words by Frequency in Complaints')\n",
        "plt.show()\n"
      ]
    },
    {
      "cell_type": "code",
      "execution_count": 19,
      "metadata": {
        "id": "OkSmc3UaJrF4"
      },
      "outputs": [
        {
          "data": {
            "text/html": [
              "<div>\n",
              "<style scoped>\n",
              "    .dataframe tbody tr th:only-of-type {\n",
              "        vertical-align: middle;\n",
              "    }\n",
              "\n",
              "    .dataframe tbody tr th {\n",
              "        vertical-align: top;\n",
              "    }\n",
              "\n",
              "    .dataframe thead th {\n",
              "        text-align: right;\n",
              "    }\n",
              "</style>\n",
              "<table border=\"1\" class=\"dataframe\">\n",
              "  <thead>\n",
              "    <tr style=\"text-align: right;\">\n",
              "      <th></th>\n",
              "      <th>complaint_text</th>\n",
              "      <th>lemmatized_complaints</th>\n",
              "      <th>complaint_length</th>\n",
              "      <th>Complaint_clean</th>\n",
              "    </tr>\n",
              "  </thead>\n",
              "  <tbody>\n",
              "    <tr>\n",
              "      <th>1</th>\n",
              "      <td>Good morning my name is XXXX XXXX and I apprec...</td>\n",
              "      <td>good morning my name is xxxx xxxx and i apprec...</td>\n",
              "      <td>486</td>\n",
              "      <td>morning name stop debt verification statement ...</td>\n",
              "    </tr>\n",
              "    <tr>\n",
              "      <th>2</th>\n",
              "      <td>I upgraded my XXXX XXXX card in XX/XX/2018 and...</td>\n",
              "      <td>i upgraded my xxxx xxxx card in xxxx and wa to...</td>\n",
              "      <td>355</td>\n",
              "      <td>card agent anniversary date agent wa informati...</td>\n",
              "    </tr>\n",
              "    <tr>\n",
              "      <th>10</th>\n",
              "      <td>Chase Card was reported on XX/XX/2019. However...</td>\n",
              "      <td>chase card wa reported on xxxx however fraudul...</td>\n",
              "      <td>224</td>\n",
              "      <td>card application identity consent service cred...</td>\n",
              "    </tr>\n",
              "    <tr>\n",
              "      <th>11</th>\n",
              "      <td>On XX/XX/2018, while trying to book a XXXX  XX...</td>\n",
              "      <td>on xxxx while trying to book a xxxx xxxx ticke...</td>\n",
              "      <td>1502</td>\n",
              "      <td>ticket offer ticket reward card information of...</td>\n",
              "    </tr>\n",
              "    <tr>\n",
              "      <th>14</th>\n",
              "      <td>my grand son give me check for {$1600.00} i de...</td>\n",
              "      <td>my grand son give me check for i deposit it in...</td>\n",
              "      <td>477</td>\n",
              "      <td>son check chase account fund chase bank accoun...</td>\n",
              "    </tr>\n",
              "  </tbody>\n",
              "</table>\n",
              "</div>"
            ],
            "text/plain": [
              "                                       complaint_text  \\\n",
              "1   Good morning my name is XXXX XXXX and I apprec...   \n",
              "2   I upgraded my XXXX XXXX card in XX/XX/2018 and...   \n",
              "10  Chase Card was reported on XX/XX/2019. However...   \n",
              "11  On XX/XX/2018, while trying to book a XXXX  XX...   \n",
              "14  my grand son give me check for {$1600.00} i de...   \n",
              "\n",
              "                                lemmatized_complaints  complaint_length  \\\n",
              "1   good morning my name is xxxx xxxx and i apprec...               486   \n",
              "2   i upgraded my xxxx xxxx card in xxxx and wa to...               355   \n",
              "10  chase card wa reported on xxxx however fraudul...               224   \n",
              "11  on xxxx while trying to book a xxxx xxxx ticke...              1502   \n",
              "14  my grand son give me check for i deposit it in...               477   \n",
              "\n",
              "                                      Complaint_clean  \n",
              "1   morning name stop debt verification statement ...  \n",
              "2   card agent anniversary date agent wa informati...  \n",
              "10  card application identity consent service cred...  \n",
              "11  ticket offer ticket reward card information of...  \n",
              "14  son check chase account fund chase bank accoun...  "
            ]
          },
          "execution_count": 19,
          "metadata": {},
          "output_type": "execute_result"
        }
      ],
      "source": [
        "#Removing -PRON- from the text corpus\n",
        "df_clean['Complaint_clean'] = df_clean['complaint_POS_removed'].str.replace('-PRON-', '')\n",
        "df_clean = df_clean.drop(['complaint_POS_removed'], axis=1)\n",
        "df_clean.head()"
      ]
    },
    {
      "cell_type": "markdown",
      "metadata": {
        "id": "5DfCSbbmJrF4"
      },
      "source": [
        "#### Find the top unigrams,bigrams and trigrams by frequency among all the complaints after processing the text."
      ]
    },
    {
      "cell_type": "code",
      "execution_count": 20,
      "metadata": {
        "id": "5mbk5DS5JrF4"
      },
      "outputs": [],
      "source": [
        "#Write your code here to find the top 30 unigram frequency among the complaints in the cleaned datafram(df_clean).\n",
        "\n",
        "def get_top_n_grams(text, ngram=1, top=None):\n",
        "    vectorizer = CountVectorizer(ngram_range=(ngram, ngram), stop_words='english')\n",
        "    X = vectorizer.fit_transform(text)\n",
        "    sum_words = X.sum(axis=0)\n",
        "    words_freq = [(word, sum_words[0, idx]) for word, idx in vectorizer.vocabulary_.items()]\n",
        "\n",
        "    words_freq = sorted(words_freq, key=lambda x: x[1], reverse=True)\n",
        "    df_unigrams = pd.DataFrame(words_freq, columns=['word', 'count'])\n",
        "    if top:\n",
        "        return df_unigrams.head(top)\n",
        "    return df_unigrams"
      ]
    },
    {
      "cell_type": "code",
      "execution_count": 21,
      "metadata": {
        "id": "YX7fedm1JrF8"
      },
      "outputs": [
        {
          "name": "stdout",
          "output_type": "stream",
          "text": [
            "      word  count\n",
            "0    chase  58908\n",
            "1  account  46898\n",
            "2   credit  32540\n",
            "3     card  30150\n",
            "4  payment  21151\n",
            "5     bank  20599\n",
            "6     time  16017\n",
            "7      day  13171\n",
            "8   charge  11971\n",
            "9    money  11941\n"
          ]
        }
      ],
      "source": [
        "#Print the top 10 words in the unigram frequency\n",
        "top_10_unigrams = get_top_n_grams(df_clean['Complaint_clean'], ngram=1, top=10)\n",
        "print(top_10_unigrams)"
      ]
    },
    {
      "cell_type": "code",
      "execution_count": 22,
      "metadata": {
        "id": "aV7kD7w8JrF8"
      },
      "outputs": [
        {
          "name": "stdout",
          "output_type": "stream",
          "text": [
            "           word  count\n",
            "0         chase  58908\n",
            "1       account  46898\n",
            "2        credit  32540\n",
            "3          card  30150\n",
            "4       payment  21151\n",
            "5          bank  20599\n",
            "6          time  16017\n",
            "7           day  13171\n",
            "8        charge  11971\n",
            "9         money  11941\n",
            "10         loan  10765\n",
            "11        check  10233\n",
            "12  information   9633\n",
            "13       letter   9614\n",
            "14          fee   8857\n",
            "15       number   8547\n",
            "16  transaction   8536\n",
            "17        month   8509\n",
            "18         year   8379\n",
            "19     customer   8117\n",
            "20     mortgage   7937\n",
            "21      balance   7696\n",
            "22      company   7533\n",
            "23      service   7475\n",
            "24        phone   7473\n",
            "25       report   6960\n",
            "26         fund   6951\n",
            "27        claim   6707\n",
            "28        fraud   6516\n",
            "29        email   5740\n"
          ]
        }
      ],
      "source": [
        "#Write your code here to find the top 30 bigram frequency among the complaints in the cleaned datafram(df_clean).\n",
        "top_30_bigrams = get_top_n_grams(df_clean['Complaint_clean'], ngram=1, top=30)\n",
        "print(top_30_bigrams)"
      ]
    },
    {
      "cell_type": "code",
      "execution_count": 23,
      "metadata": {
        "id": "NPnMNIpyJrF9"
      },
      "outputs": [
        {
          "name": "stdout",
          "output_type": "stream",
          "text": [
            "               word  count\n",
            "0       credit card  12835\n",
            "1     credit report   3852\n",
            "2     account chase   3698\n",
            "3        chase bank   3505\n",
            "4     chase account   3452\n",
            "5      chase credit   3307\n",
            "6  customer service   3054\n",
            "7   account account   2818\n",
            "8  checking account   2548\n",
            "9      bank account   2530\n"
          ]
        }
      ],
      "source": [
        "#Print the top 10 words in the bigram frequency\n",
        "top_10_bigrams = get_top_n_grams(df_clean['Complaint_clean'], ngram=2, top=10)\n",
        "print(top_10_bigrams)"
      ]
    },
    {
      "cell_type": "code",
      "execution_count": 24,
      "metadata": {
        "id": "Xkh7vtbtJrF-"
      },
      "outputs": [
        {
          "name": "stdout",
          "output_type": "stream",
          "text": [
            "                               word  count\n",
            "0                 chase credit card   2195\n",
            "1               credit card account   1140\n",
            "2               credit card company   1001\n",
            "3                 credit card chase    886\n",
            "4            chase customer service    623\n",
            "5                credit card credit    576\n",
            "6             inquiry credit report    552\n",
            "7               account credit card    472\n",
            "8                  card credit card    469\n",
            "9                chase bank account    446\n",
            "10            account chase account    400\n",
            "11               charge credit card    381\n",
            "12             credit report credit    380\n",
            "13          credit reporting agency    375\n",
            "14  customer service representative    351\n",
            "15            account credit report    350\n",
            "16              credit card payment    336\n",
            "17             credit reporting act    328\n",
            "18              chase account chase    309\n",
            "19           checking account chase    293\n",
            "20                 credit card card    285\n",
            "21              credit card balance    284\n",
            "22              credit report chase    270\n",
            "23               account chase bank    268\n",
            "24               credit card charge    265\n",
            "25                 bank credit card    265\n",
            "26              payment credit card    259\n",
            "27            victim identity theft    249\n",
            "28                 credit card bank    242\n",
            "29            chase account account    236\n"
          ]
        }
      ],
      "source": [
        "#Write your code here to find the top 30 trigram frequency among the complaints in the cleaned datafram(df_clean).\n",
        "top_30_trigrams = get_top_n_grams(df_clean['Complaint_clean'], ngram=3, top=30)\n",
        "print(top_30_trigrams)"
      ]
    },
    {
      "cell_type": "code",
      "execution_count": 25,
      "metadata": {
        "id": "REcVxNfvJrF-"
      },
      "outputs": [
        {
          "name": "stdout",
          "output_type": "stream",
          "text": [
            "                     word  count\n",
            "0       chase credit card   2195\n",
            "1     credit card account   1140\n",
            "2     credit card company   1001\n",
            "3       credit card chase    886\n",
            "4  chase customer service    623\n",
            "5      credit card credit    576\n",
            "6   inquiry credit report    552\n",
            "7     account credit card    472\n",
            "8        card credit card    469\n",
            "9      chase bank account    446\n"
          ]
        }
      ],
      "source": [
        "#Print the top 10 words in the trigram frequency\n",
        "top_10_trigrams = get_top_n_grams(df_clean['Complaint_clean'], ngram=3, top=10)\n",
        "print(top_10_trigrams)"
      ]
    },
    {
      "cell_type": "markdown",
      "metadata": {
        "id": "yUXzFji0JrF_"
      },
      "source": [
        "## The personal details of customer has been masked in the dataset with xxxx. Let's remove the masked text as this will be of no use for our analysis"
      ]
    },
    {
      "cell_type": "code",
      "execution_count": 26,
      "metadata": {
        "id": "wKda-a_IJrF_"
      },
      "outputs": [],
      "source": [
        "df_clean['Complaint_clean'] = df_clean['Complaint_clean'].str.replace('xxxx','')"
      ]
    },
    {
      "cell_type": "code",
      "execution_count": 27,
      "metadata": {
        "id": "9UIFk8fQJrF_"
      },
      "outputs": [
        {
          "data": {
            "text/html": [
              "<div>\n",
              "<style scoped>\n",
              "    .dataframe tbody tr th:only-of-type {\n",
              "        vertical-align: middle;\n",
              "    }\n",
              "\n",
              "    .dataframe tbody tr th {\n",
              "        vertical-align: top;\n",
              "    }\n",
              "\n",
              "    .dataframe thead th {\n",
              "        text-align: right;\n",
              "    }\n",
              "</style>\n",
              "<table border=\"1\" class=\"dataframe\">\n",
              "  <thead>\n",
              "    <tr style=\"text-align: right;\">\n",
              "      <th></th>\n",
              "      <th>complaint_text</th>\n",
              "      <th>lemmatized_complaints</th>\n",
              "      <th>complaint_length</th>\n",
              "      <th>Complaint_clean</th>\n",
              "    </tr>\n",
              "  </thead>\n",
              "  <tbody>\n",
              "    <tr>\n",
              "      <th>1</th>\n",
              "      <td>Good morning my name is XXXX XXXX and I apprec...</td>\n",
              "      <td>good morning my name is xxxx xxxx and i apprec...</td>\n",
              "      <td>486</td>\n",
              "      <td>morning name stop debt verification statement ...</td>\n",
              "    </tr>\n",
              "    <tr>\n",
              "      <th>2</th>\n",
              "      <td>I upgraded my XXXX XXXX card in XX/XX/2018 and...</td>\n",
              "      <td>i upgraded my xxxx xxxx card in xxxx and wa to...</td>\n",
              "      <td>355</td>\n",
              "      <td>card agent anniversary date agent wa informati...</td>\n",
              "    </tr>\n",
              "    <tr>\n",
              "      <th>10</th>\n",
              "      <td>Chase Card was reported on XX/XX/2019. However...</td>\n",
              "      <td>chase card wa reported on xxxx however fraudul...</td>\n",
              "      <td>224</td>\n",
              "      <td>card application identity consent service cred...</td>\n",
              "    </tr>\n",
              "    <tr>\n",
              "      <th>11</th>\n",
              "      <td>On XX/XX/2018, while trying to book a XXXX  XX...</td>\n",
              "      <td>on xxxx while trying to book a xxxx xxxx ticke...</td>\n",
              "      <td>1502</td>\n",
              "      <td>ticket offer ticket reward card information of...</td>\n",
              "    </tr>\n",
              "    <tr>\n",
              "      <th>14</th>\n",
              "      <td>my grand son give me check for {$1600.00} i de...</td>\n",
              "      <td>my grand son give me check for i deposit it in...</td>\n",
              "      <td>477</td>\n",
              "      <td>son check chase account fund chase bank accoun...</td>\n",
              "    </tr>\n",
              "    <tr>\n",
              "      <th>...</th>\n",
              "      <td>...</td>\n",
              "      <td>...</td>\n",
              "      <td>...</td>\n",
              "      <td>...</td>\n",
              "    </tr>\n",
              "    <tr>\n",
              "      <th>78303</th>\n",
              "      <td>After being a Chase Card customer for well ove...</td>\n",
              "      <td>after being a chase card customer for well ove...</td>\n",
              "      <td>679</td>\n",
              "      <td>chase card customer decade solicitation credit...</td>\n",
              "    </tr>\n",
              "    <tr>\n",
              "      <th>78309</th>\n",
              "      <td>On Wednesday, XX/XX/XXXX I called Chas, my XXX...</td>\n",
              "      <td>on wednesday xxxxxxxx i called chas my xxxx xx...</td>\n",
              "      <td>2114</td>\n",
              "      <td>credit card provider claim purchase protection...</td>\n",
              "    </tr>\n",
              "    <tr>\n",
              "      <th>78310</th>\n",
              "      <td>I am not familiar with XXXX pay and did not un...</td>\n",
              "      <td>i am not familiar with xxxx pay and did not un...</td>\n",
              "      <td>2319</td>\n",
              "      <td>pay risk consumer chase bank app chase year ba...</td>\n",
              "    </tr>\n",
              "    <tr>\n",
              "      <th>78311</th>\n",
              "      <td>I have had flawless credit for 30 yrs. I've ha...</td>\n",
              "      <td>i have had flawless credit for yr ive had chas...</td>\n",
              "      <td>2171</td>\n",
              "      <td>credit yr credit card chase freedom problem ba...</td>\n",
              "    </tr>\n",
              "    <tr>\n",
              "      <th>78312</th>\n",
              "      <td>Roughly 10+ years ago I closed out my accounts...</td>\n",
              "      <td>roughly year ago i closed out my account with ...</td>\n",
              "      <td>794</td>\n",
              "      <td>year account order line credit account payment...</td>\n",
              "    </tr>\n",
              "  </tbody>\n",
              "</table>\n",
              "<p>21072 rows × 4 columns</p>\n",
              "</div>"
            ],
            "text/plain": [
              "                                          complaint_text  \\\n",
              "1      Good morning my name is XXXX XXXX and I apprec...   \n",
              "2      I upgraded my XXXX XXXX card in XX/XX/2018 and...   \n",
              "10     Chase Card was reported on XX/XX/2019. However...   \n",
              "11     On XX/XX/2018, while trying to book a XXXX  XX...   \n",
              "14     my grand son give me check for {$1600.00} i de...   \n",
              "...                                                  ...   \n",
              "78303  After being a Chase Card customer for well ove...   \n",
              "78309  On Wednesday, XX/XX/XXXX I called Chas, my XXX...   \n",
              "78310  I am not familiar with XXXX pay and did not un...   \n",
              "78311  I have had flawless credit for 30 yrs. I've ha...   \n",
              "78312  Roughly 10+ years ago I closed out my accounts...   \n",
              "\n",
              "                                   lemmatized_complaints  complaint_length  \\\n",
              "1      good morning my name is xxxx xxxx and i apprec...               486   \n",
              "2      i upgraded my xxxx xxxx card in xxxx and wa to...               355   \n",
              "10     chase card wa reported on xxxx however fraudul...               224   \n",
              "11     on xxxx while trying to book a xxxx xxxx ticke...              1502   \n",
              "14     my grand son give me check for i deposit it in...               477   \n",
              "...                                                  ...               ...   \n",
              "78303  after being a chase card customer for well ove...               679   \n",
              "78309  on wednesday xxxxxxxx i called chas my xxxx xx...              2114   \n",
              "78310  i am not familiar with xxxx pay and did not un...              2319   \n",
              "78311  i have had flawless credit for yr ive had chas...              2171   \n",
              "78312  roughly year ago i closed out my account with ...               794   \n",
              "\n",
              "                                         Complaint_clean  \n",
              "1      morning name stop debt verification statement ...  \n",
              "2      card agent anniversary date agent wa informati...  \n",
              "10     card application identity consent service cred...  \n",
              "11     ticket offer ticket reward card information of...  \n",
              "14     son check chase account fund chase bank accoun...  \n",
              "...                                                  ...  \n",
              "78303  chase card customer decade solicitation credit...  \n",
              "78309  credit card provider claim purchase protection...  \n",
              "78310  pay risk consumer chase bank app chase year ba...  \n",
              "78311  credit yr credit card chase freedom problem ba...  \n",
              "78312  year account order line credit account payment...  \n",
              "\n",
              "[21072 rows x 4 columns]"
            ]
          },
          "execution_count": 27,
          "metadata": {},
          "output_type": "execute_result"
        }
      ],
      "source": [
        "#All masked texts has been removed\n",
        "df_clean"
      ]
    },
    {
      "cell_type": "markdown",
      "metadata": {
        "id": "k-I0k0QtJrGA"
      },
      "source": [
        "## Feature Extraction\n",
        "Convert the raw texts to a matrix of TF-IDF features\n",
        "\n",
        "**max_df** is used for removing terms that appear too frequently, also known as \"corpus-specific stop words\"\n",
        "max_df = 0.95 means \"ignore terms that appear in more than 95% of the complaints\"\n",
        "\n",
        "**min_df** is used for removing terms that appear too infrequently\n",
        "min_df = 2 means \"ignore terms that appear in less than 2 complaints\""
      ]
    },
    {
      "cell_type": "code",
      "execution_count": 28,
      "metadata": {
        "id": "Y8fGwaCPJrGA"
      },
      "outputs": [],
      "source": [
        "#Write your code here to initialise the TfidfVectorizer\n",
        "tdif = TfidfVectorizer(min_df=2, max_df=0.95, stop_words='english')\n"
      ]
    },
    {
      "cell_type": "markdown",
      "metadata": {
        "id": "yYzD85nTJrGA"
      },
      "source": [
        "#### Create a document term matrix using fit_transform\n",
        "\n",
        "The contents of a document term matrix are tuples of (complaint_id,token_id) tf-idf score:\n",
        "The tuples that are not there have a tf-idf score of 0"
      ]
    },
    {
      "cell_type": "code",
      "execution_count": 29,
      "metadata": {},
      "outputs": [
        {
          "data": {
            "text/html": [
              "<div>\n",
              "<style scoped>\n",
              "    .dataframe tbody tr th:only-of-type {\n",
              "        vertical-align: middle;\n",
              "    }\n",
              "\n",
              "    .dataframe tbody tr th {\n",
              "        vertical-align: top;\n",
              "    }\n",
              "\n",
              "    .dataframe thead th {\n",
              "        text-align: right;\n",
              "    }\n",
              "</style>\n",
              "<table border=\"1\" class=\"dataframe\">\n",
              "  <thead>\n",
              "    <tr style=\"text-align: right;\">\n",
              "      <th></th>\n",
              "      <th>complaint_text</th>\n",
              "      <th>lemmatized_complaints</th>\n",
              "      <th>complaint_length</th>\n",
              "      <th>Complaint_clean</th>\n",
              "    </tr>\n",
              "  </thead>\n",
              "  <tbody>\n",
              "    <tr>\n",
              "      <th>1</th>\n",
              "      <td>Good morning my name is XXXX XXXX and I apprec...</td>\n",
              "      <td>good morning my name is xxxx xxxx and i apprec...</td>\n",
              "      <td>486</td>\n",
              "      <td>morning name stop debt verification statement ...</td>\n",
              "    </tr>\n",
              "    <tr>\n",
              "      <th>2</th>\n",
              "      <td>I upgraded my XXXX XXXX card in XX/XX/2018 and...</td>\n",
              "      <td>i upgraded my xxxx xxxx card in xxxx and wa to...</td>\n",
              "      <td>355</td>\n",
              "      <td>card agent anniversary date agent wa informati...</td>\n",
              "    </tr>\n",
              "    <tr>\n",
              "      <th>10</th>\n",
              "      <td>Chase Card was reported on XX/XX/2019. However...</td>\n",
              "      <td>chase card wa reported on xxxx however fraudul...</td>\n",
              "      <td>224</td>\n",
              "      <td>card application identity consent service cred...</td>\n",
              "    </tr>\n",
              "    <tr>\n",
              "      <th>11</th>\n",
              "      <td>On XX/XX/2018, while trying to book a XXXX  XX...</td>\n",
              "      <td>on xxxx while trying to book a xxxx xxxx ticke...</td>\n",
              "      <td>1502</td>\n",
              "      <td>ticket offer ticket reward card information of...</td>\n",
              "    </tr>\n",
              "    <tr>\n",
              "      <th>14</th>\n",
              "      <td>my grand son give me check for {$1600.00} i de...</td>\n",
              "      <td>my grand son give me check for i deposit it in...</td>\n",
              "      <td>477</td>\n",
              "      <td>son check chase account fund chase bank accoun...</td>\n",
              "    </tr>\n",
              "  </tbody>\n",
              "</table>\n",
              "</div>"
            ],
            "text/plain": [
              "                                       complaint_text  \\\n",
              "1   Good morning my name is XXXX XXXX and I apprec...   \n",
              "2   I upgraded my XXXX XXXX card in XX/XX/2018 and...   \n",
              "10  Chase Card was reported on XX/XX/2019. However...   \n",
              "11  On XX/XX/2018, while trying to book a XXXX  XX...   \n",
              "14  my grand son give me check for {$1600.00} i de...   \n",
              "\n",
              "                                lemmatized_complaints  complaint_length  \\\n",
              "1   good morning my name is xxxx xxxx and i apprec...               486   \n",
              "2   i upgraded my xxxx xxxx card in xxxx and wa to...               355   \n",
              "10  chase card wa reported on xxxx however fraudul...               224   \n",
              "11  on xxxx while trying to book a xxxx xxxx ticke...              1502   \n",
              "14  my grand son give me check for i deposit it in...               477   \n",
              "\n",
              "                                      Complaint_clean  \n",
              "1   morning name stop debt verification statement ...  \n",
              "2   card agent anniversary date agent wa informati...  \n",
              "10  card application identity consent service cred...  \n",
              "11  ticket offer ticket reward card information of...  \n",
              "14  son check chase account fund chase bank accoun...  "
            ]
          },
          "execution_count": 29,
          "metadata": {},
          "output_type": "execute_result"
        }
      ],
      "source": [
        "df_clean.head()"
      ]
    },
    {
      "cell_type": "code",
      "execution_count": 30,
      "metadata": {
        "id": "ffzdDpp_JrGB"
      },
      "outputs": [],
      "source": [
        "#Write your code here to create the Document Term Matrix by transforming the complaints column present in df_clean.\n",
        "tdif_matrix = tdif.fit_transform(df_clean['Complaint_clean'])"
      ]
    },
    {
      "cell_type": "code",
      "execution_count": 31,
      "metadata": {},
      "outputs": [
        {
          "data": {
            "text/plain": [
              "(21072, 6052)"
            ]
          },
          "execution_count": 31,
          "metadata": {},
          "output_type": "execute_result"
        }
      ],
      "source": [
        "tdif_matrix.shape"
      ]
    },
    {
      "cell_type": "markdown",
      "metadata": {
        "id": "7Q9lwvNEJrGB"
      },
      "source": [
        "## Topic Modelling using NMF\n",
        "\n",
        "Non-Negative Matrix Factorization (NMF) is an unsupervised technique so there are no labeling of topics that the model will be trained on. The way it works is that, NMF decomposes (or factorizes) high-dimensional vectors into a lower-dimensional representation. These lower-dimensional vectors are non-negative which also means their coefficients are non-negative.\n",
        "\n",
        "In this task you have to perform the following:\n",
        "\n",
        "* Find the best number of clusters\n",
        "* Apply the best number to create word clusters\n",
        "* Inspect & validate the correction of each cluster wrt the complaints\n",
        "* Correct the labels if needed\n",
        "* Map the clusters to topics/cluster names"
      ]
    },
    {
      "cell_type": "code",
      "execution_count": 32,
      "metadata": {
        "id": "amLT4omWJrGB"
      },
      "outputs": [],
      "source": [
        "from sklearn.decomposition import NMF"
      ]
    },
    {
      "cell_type": "markdown",
      "metadata": {
        "id": "0wYR1xUTJrGD"
      },
      "source": [
        "## Manual Topic Modeling\n",
        "You need to do take the trial & error approach to find the best num of topics for your NMF model.\n",
        "\n",
        "The only parameter that is required is the number of components i.e. the number of topics we want. This is the most crucial step in the whole topic modeling process and will greatly affect how good your final topics are."
      ]
    },
    {
      "cell_type": "code",
      "execution_count": 33,
      "metadata": {
        "id": "sgd2A6bhJrGD"
      },
      "outputs": [],
      "source": [
        "#Load your nmf_model with the n_components i.e 5\n",
        "num_topics = 5\n",
        "\n",
        "#keep the random_state =40\n",
        "nmf_model = NMF(n_components=num_topics, random_state=40)\n",
        "\n",
        "W = nmf_model.fit_transform(tdif_matrix)  # Document-topic matrix\n",
        "H = nmf_model.components_   "
      ]
    },
    {
      "cell_type": "code",
      "execution_count": 34,
      "metadata": {
        "id": "VPMDYbt_JrGE"
      },
      "outputs": [
        {
          "name": "stdout",
          "output_type": "stream",
          "text": [
            "CPU times: user 3.7 s, sys: 372 ms, total: 4.07 s\n",
            "Wall time: 1.15 s\n"
          ]
        },
        {
          "data": {
            "text/plain": [
              "6052"
            ]
          },
          "execution_count": 34,
          "metadata": {},
          "output_type": "execute_result"
        }
      ],
      "source": [
        "%%time\n",
        "nmf_model.fit(tdif_matrix)\n",
        "len(tdif.get_feature_names_out())"
      ]
    },
    {
      "cell_type": "code",
      "execution_count": 35,
      "metadata": {
        "id": "16kRfat5JrGE"
      },
      "outputs": [
        {
          "name": "stdout",
          "output_type": "stream",
          "text": [
            "Topic 1:\n",
            "account check bank money chase fund day deposit branch transaction checking number fee claim business\n",
            "\n",
            "\n",
            "Topic 2:\n",
            "card charge chase credit dispute purchase transaction service fraud merchant time fee balance company customer\n",
            "\n",
            "\n",
            "Topic 3:\n",
            "payment balance fee month statement day time date chase credit auto year account error mortgage\n",
            "\n",
            "\n",
            "Topic 4:\n",
            "credit report inquiry card account score bureau company debt reporting information identity application theft limit\n",
            "\n",
            "\n",
            "Topic 5:\n",
            "loan mortgage chase home modification property year letter time document rate foreclosure house sale information\n",
            "\n",
            "\n"
          ]
        }
      ],
      "source": [
        "#Print the Top15 words for each of the topics\n",
        "feature_names = tdif.get_feature_names_out()\n",
        "\n",
        "def print_top_words(model, feature_names, n_top_words):\n",
        "    for topic_idx, topic in enumerate(model.components_):\n",
        "        print(f\"Topic {topic_idx + 1}:\")\n",
        "        top_features = topic.argsort()[-n_top_words:][::-1]\n",
        "        top_words = [feature_names[i] for i in top_features]\n",
        "        print(\" \".join(top_words))\n",
        "        print(\"\\n\")\n",
        "\n",
        "print_top_words(nmf_model, feature_names, 15)"
      ]
    },
    {
      "cell_type": "code",
      "execution_count": 150,
      "metadata": {
        "id": "0OIT7LmFJrGF"
      },
      "outputs": [
        {
          "name": "stdout",
          "output_type": "stream",
          "text": [
            "                                       complaint_text  Topic\n",
            "1   Good morning my name is XXXX XXXX and I apprec...      4\n",
            "2   I upgraded my XXXX XXXX card in XX/XX/2018 and...      1\n",
            "10  Chase Card was reported on XX/XX/2019. However...      3\n",
            "11  On XX/XX/2018, while trying to book a XXXX  XX...      3\n",
            "14  my grand son give me check for {$1600.00} i de...      0\n"
          ]
        }
      ],
      "source": [
        "#Create the best topic for each complaint in terms of integer value 0,1,2,3 & 4\n",
        "df_new = df_clean.copy()\n",
        "df_new['Topic'] = W.argmax(axis=1)\n",
        "\n",
        "# Display the DataFrame with the assigned topics\n",
        "print(df_new[['complaint_text', 'Topic']].head())"
      ]
    },
    {
      "cell_type": "code",
      "execution_count": 151,
      "metadata": {},
      "outputs": [
        {
          "data": {
            "text/plain": [
              "(21072, 5)"
            ]
          },
          "execution_count": 151,
          "metadata": {},
          "output_type": "execute_result"
        }
      ],
      "source": [
        "df_new.shape"
      ]
    },
    {
      "cell_type": "code",
      "execution_count": 152,
      "metadata": {
        "id": "fLh_Gf3nJrGF"
      },
      "outputs": [
        {
          "data": {
            "text/html": [
              "<div>\n",
              "<style scoped>\n",
              "    .dataframe tbody tr th:only-of-type {\n",
              "        vertical-align: middle;\n",
              "    }\n",
              "\n",
              "    .dataframe tbody tr th {\n",
              "        vertical-align: top;\n",
              "    }\n",
              "\n",
              "    .dataframe thead th {\n",
              "        text-align: right;\n",
              "    }\n",
              "</style>\n",
              "<table border=\"1\" class=\"dataframe\">\n",
              "  <thead>\n",
              "    <tr style=\"text-align: right;\">\n",
              "      <th></th>\n",
              "      <th>complaint_text</th>\n",
              "      <th>lemmatized_complaints</th>\n",
              "      <th>complaint_length</th>\n",
              "      <th>Complaint_clean</th>\n",
              "      <th>Topic</th>\n",
              "    </tr>\n",
              "  </thead>\n",
              "  <tbody>\n",
              "    <tr>\n",
              "      <th>1</th>\n",
              "      <td>Good morning my name is XXXX XXXX and I apprec...</td>\n",
              "      <td>good morning my name is xxxx xxxx and i apprec...</td>\n",
              "      <td>486</td>\n",
              "      <td>morning name stop debt verification statement ...</td>\n",
              "      <td>4</td>\n",
              "    </tr>\n",
              "    <tr>\n",
              "      <th>2</th>\n",
              "      <td>I upgraded my XXXX XXXX card in XX/XX/2018 and...</td>\n",
              "      <td>i upgraded my xxxx xxxx card in xxxx and wa to...</td>\n",
              "      <td>355</td>\n",
              "      <td>card agent anniversary date agent wa informati...</td>\n",
              "      <td>1</td>\n",
              "    </tr>\n",
              "    <tr>\n",
              "      <th>10</th>\n",
              "      <td>Chase Card was reported on XX/XX/2019. However...</td>\n",
              "      <td>chase card wa reported on xxxx however fraudul...</td>\n",
              "      <td>224</td>\n",
              "      <td>card application identity consent service cred...</td>\n",
              "      <td>3</td>\n",
              "    </tr>\n",
              "    <tr>\n",
              "      <th>11</th>\n",
              "      <td>On XX/XX/2018, while trying to book a XXXX  XX...</td>\n",
              "      <td>on xxxx while trying to book a xxxx xxxx ticke...</td>\n",
              "      <td>1502</td>\n",
              "      <td>ticket offer ticket reward card information of...</td>\n",
              "      <td>3</td>\n",
              "    </tr>\n",
              "    <tr>\n",
              "      <th>14</th>\n",
              "      <td>my grand son give me check for {$1600.00} i de...</td>\n",
              "      <td>my grand son give me check for i deposit it in...</td>\n",
              "      <td>477</td>\n",
              "      <td>son check chase account fund chase bank accoun...</td>\n",
              "      <td>0</td>\n",
              "    </tr>\n",
              "  </tbody>\n",
              "</table>\n",
              "</div>"
            ],
            "text/plain": [
              "                                       complaint_text  \\\n",
              "1   Good morning my name is XXXX XXXX and I apprec...   \n",
              "2   I upgraded my XXXX XXXX card in XX/XX/2018 and...   \n",
              "10  Chase Card was reported on XX/XX/2019. However...   \n",
              "11  On XX/XX/2018, while trying to book a XXXX  XX...   \n",
              "14  my grand son give me check for {$1600.00} i de...   \n",
              "\n",
              "                                lemmatized_complaints  complaint_length  \\\n",
              "1   good morning my name is xxxx xxxx and i apprec...               486   \n",
              "2   i upgraded my xxxx xxxx card in xxxx and wa to...               355   \n",
              "10  chase card wa reported on xxxx however fraudul...               224   \n",
              "11  on xxxx while trying to book a xxxx xxxx ticke...              1502   \n",
              "14  my grand son give me check for i deposit it in...               477   \n",
              "\n",
              "                                      Complaint_clean  Topic  \n",
              "1   morning name stop debt verification statement ...      4  \n",
              "2   card agent anniversary date agent wa informati...      1  \n",
              "10  card application identity consent service cred...      3  \n",
              "11  ticket offer ticket reward card information of...      3  \n",
              "14  son check chase account fund chase bank accoun...      0  "
            ]
          },
          "execution_count": 152,
          "metadata": {},
          "output_type": "execute_result"
        }
      ],
      "source": [
        "df_new.head()"
      ]
    },
    {
      "cell_type": "code",
      "execution_count": 153,
      "metadata": {},
      "outputs": [
        {
          "data": {
            "text/plain": [
              "(21072, 5)"
            ]
          },
          "execution_count": 153,
          "metadata": {},
          "output_type": "execute_result"
        }
      ],
      "source": [
        "df_new.shape"
      ]
    },
    {
      "cell_type": "code",
      "execution_count": 154,
      "metadata": {
        "id": "aQKpufSPJrGG"
      },
      "outputs": [
        {
          "data": {
            "text/html": [
              "<div>\n",
              "<style scoped>\n",
              "    .dataframe tbody tr th:only-of-type {\n",
              "        vertical-align: middle;\n",
              "    }\n",
              "\n",
              "    .dataframe tbody tr th {\n",
              "        vertical-align: top;\n",
              "    }\n",
              "\n",
              "    .dataframe thead th {\n",
              "        text-align: right;\n",
              "    }\n",
              "</style>\n",
              "<table border=\"1\" class=\"dataframe\">\n",
              "  <thead>\n",
              "    <tr style=\"text-align: right;\">\n",
              "      <th></th>\n",
              "      <th>complaint_text</th>\n",
              "      <th>lemmatized_complaints</th>\n",
              "      <th>complaint_length</th>\n",
              "      <th>Complaint_clean</th>\n",
              "      <th>Topic</th>\n",
              "    </tr>\n",
              "  </thead>\n",
              "  <tbody>\n",
              "    <tr>\n",
              "      <th>27</th>\n",
              "      <td>I opened an account with chase bank on XXXX an...</td>\n",
              "      <td>i opened an account with chase bank on xxxx an...</td>\n",
              "      <td>413</td>\n",
              "      <td>account bank code bonus term everything accoun...</td>\n",
              "      <td>0</td>\n",
              "    </tr>\n",
              "    <tr>\n",
              "      <th>14</th>\n",
              "      <td>my grand son give me check for {$1600.00} i de...</td>\n",
              "      <td>my grand son give me check for i deposit it in...</td>\n",
              "      <td>477</td>\n",
              "      <td>son check chase account fund chase bank accoun...</td>\n",
              "      <td>0</td>\n",
              "    </tr>\n",
              "    <tr>\n",
              "      <th>17</th>\n",
              "      <td>With out notice J.P. Morgan Chase restricted m...</td>\n",
              "      <td>with out notice jp morgan chase restricted my ...</td>\n",
              "      <td>2277</td>\n",
              "      <td>notice account debit card branch customer serv...</td>\n",
              "      <td>0</td>\n",
              "    </tr>\n",
              "    <tr>\n",
              "      <th>24</th>\n",
              "      <td>mishandling of this account by Chase auto and ...</td>\n",
              "      <td>mishandling of this account by chase auto and ...</td>\n",
              "      <td>51</td>\n",
              "      <td>account auto</td>\n",
              "      <td>0</td>\n",
              "    </tr>\n",
              "    <tr>\n",
              "      <th>30</th>\n",
              "      <td>To whom it may concern, Chase bank charged wro...</td>\n",
              "      <td>to whom it may concern chase bank charged wron...</td>\n",
              "      <td>566</td>\n",
              "      <td>concern overdraft fee alert balance unsuficent...</td>\n",
              "      <td>0</td>\n",
              "    </tr>\n",
              "    <tr>\n",
              "      <th>2</th>\n",
              "      <td>I upgraded my XXXX XXXX card in XX/XX/2018 and...</td>\n",
              "      <td>i upgraded my xxxx xxxx card in xxxx and wa to...</td>\n",
              "      <td>355</td>\n",
              "      <td>card agent anniversary date agent wa informati...</td>\n",
              "      <td>1</td>\n",
              "    </tr>\n",
              "    <tr>\n",
              "      <th>45</th>\n",
              "      <td>I made a purchase with XXXX XXXX XXXX on XX/XX...</td>\n",
              "      <td>i made a purchase with xxxx xxxx xxxx on xxxx ...</td>\n",
              "      <td>1920</td>\n",
              "      <td>purchase amount transaction dispute case bank ...</td>\n",
              "      <td>1</td>\n",
              "    </tr>\n",
              "    <tr>\n",
              "      <th>40</th>\n",
              "      <td>XXXX XXXX a sofa, love seat, table and chairs ...</td>\n",
              "      <td>xxxx xxxx a sofa love seat table and chair and...</td>\n",
              "      <td>165</td>\n",
              "      <td>sofa love seat table chair debit card bank vis...</td>\n",
              "      <td>1</td>\n",
              "    </tr>\n",
              "    <tr>\n",
              "      <th>21</th>\n",
              "      <td>On XXXX XX/XX/2019, I made a {$300.00} payment...</td>\n",
              "      <td>on xxxx xxxx i made a payment to an online ret...</td>\n",
              "      <td>3541</td>\n",
              "      <td>payment retailer chase pay chase website scam ...</td>\n",
              "      <td>1</td>\n",
              "    </tr>\n",
              "    <tr>\n",
              "      <th>32</th>\n",
              "      <td>My chase amazon card was declined for a cateri...</td>\n",
              "      <td>my chase amazon card wa declined for a caterin...</td>\n",
              "      <td>1972</td>\n",
              "      <td>chase amazon card catering order brother funer...</td>\n",
              "      <td>1</td>\n",
              "    </tr>\n",
              "    <tr>\n",
              "      <th>82</th>\n",
              "      <td>I recently called to ask Chase bank why they r...</td>\n",
              "      <td>i recently called to ask chase bank why they r...</td>\n",
              "      <td>1372</td>\n",
              "      <td>credit bureau day payment info bill balance bi...</td>\n",
              "      <td>2</td>\n",
              "    </tr>\n",
              "    <tr>\n",
              "      <th>58</th>\n",
              "      <td>I made a purchase of {$260.00} on XX/XX/XXXX. ...</td>\n",
              "      <td>i made a purchase of on xxxxxxxx i made paymen...</td>\n",
              "      <td>1274</td>\n",
              "      <td>purchase payment payment closing date  stateme...</td>\n",
              "      <td>2</td>\n",
              "    </tr>\n",
              "    <tr>\n",
              "      <th>160</th>\n",
              "      <td>On more than one occasion my bank ( Chase ) ha...</td>\n",
              "      <td>on more than one occasion my bank chase ha cha...</td>\n",
              "      <td>1196</td>\n",
              "      <td>occasion bank chase overdraft fee account way ...</td>\n",
              "      <td>2</td>\n",
              "    </tr>\n",
              "    <tr>\n",
              "      <th>20</th>\n",
              "      <td>During the summer months, I experience a decli...</td>\n",
              "      <td>during the summer month i experience a decline...</td>\n",
              "      <td>1396</td>\n",
              "      <td>summer month decline income employment month p...</td>\n",
              "      <td>2</td>\n",
              "    </tr>\n",
              "    <tr>\n",
              "      <th>141</th>\n",
              "      <td>Action Taken By The Company Between the dates ...</td>\n",
              "      <td>action taken by the company between the date o...</td>\n",
              "      <td>6263</td>\n",
              "      <td>action company date individual group chase cla...</td>\n",
              "      <td>2</td>\n",
              "    </tr>\n",
              "    <tr>\n",
              "      <th>26</th>\n",
              "      <td>I have reached out to XXXX several times in at...</td>\n",
              "      <td>i have reached out to xxxx several time in att...</td>\n",
              "      <td>753</td>\n",
              "      <td>time attempt inquiry creditor inquiry report a...</td>\n",
              "      <td>3</td>\n",
              "    </tr>\n",
              "    <tr>\n",
              "      <th>23</th>\n",
              "      <td>I have a Chase credit card which is incorrectl...</td>\n",
              "      <td>i have a chase credit card which is incorrectl...</td>\n",
              "      <td>129</td>\n",
              "      <td>credit card credit report company issue</td>\n",
              "      <td>3</td>\n",
              "    </tr>\n",
              "    <tr>\n",
              "      <th>15</th>\n",
              "      <td>Can you please remove inquiry</td>\n",
              "      <td>can you please remove inquiry</td>\n",
              "      <td>29</td>\n",
              "      <td>inquiry</td>\n",
              "      <td>3</td>\n",
              "    </tr>\n",
              "    <tr>\n",
              "      <th>11</th>\n",
              "      <td>On XX/XX/2018, while trying to book a XXXX  XX...</td>\n",
              "      <td>on xxxx while trying to book a xxxx xxxx ticke...</td>\n",
              "      <td>1502</td>\n",
              "      <td>ticket offer ticket reward card information of...</td>\n",
              "      <td>3</td>\n",
              "    </tr>\n",
              "    <tr>\n",
              "      <th>10</th>\n",
              "      <td>Chase Card was reported on XX/XX/2019. However...</td>\n",
              "      <td>chase card wa reported on xxxx however fraudul...</td>\n",
              "      <td>224</td>\n",
              "      <td>card application identity consent service cred...</td>\n",
              "      <td>3</td>\n",
              "    </tr>\n",
              "    <tr>\n",
              "      <th>43</th>\n",
              "      <td>Chase sent me an email today with the innocuou...</td>\n",
              "      <td>chase sent me an email today with the innocuou...</td>\n",
              "      <td>934</td>\n",
              "      <td>chase email today title information change cha...</td>\n",
              "      <td>4</td>\n",
              "    </tr>\n",
              "    <tr>\n",
              "      <th>48</th>\n",
              "      <td>JP Morgan Chase Bank, please answer the follow...</td>\n",
              "      <td>jp morgan chase bank please answer the followi...</td>\n",
              "      <td>1229</td>\n",
              "      <td>question information reason information chase ...</td>\n",
              "      <td>4</td>\n",
              "    </tr>\n",
              "    <tr>\n",
              "      <th>57</th>\n",
              "      <td>I have been trying to do a loan modification w...</td>\n",
              "      <td>i have been trying to do a loan modification w...</td>\n",
              "      <td>190</td>\n",
              "      <td>loan modification chase runaround payment doc</td>\n",
              "      <td>4</td>\n",
              "    </tr>\n",
              "    <tr>\n",
              "      <th>73</th>\n",
              "      <td>I have wired through one of Chase branches in ...</td>\n",
              "      <td>i have wired through one of chase branch in xx...</td>\n",
              "      <td>1143</td>\n",
              "      <td>chase branch reinstatement amount order forecl...</td>\n",
              "      <td>4</td>\n",
              "    </tr>\n",
              "    <tr>\n",
              "      <th>1</th>\n",
              "      <td>Good morning my name is XXXX XXXX and I apprec...</td>\n",
              "      <td>good morning my name is xxxx xxxx and i apprec...</td>\n",
              "      <td>486</td>\n",
              "      <td>morning name stop debt verification statement ...</td>\n",
              "      <td>4</td>\n",
              "    </tr>\n",
              "  </tbody>\n",
              "</table>\n",
              "</div>"
            ],
            "text/plain": [
              "                                        complaint_text  \\\n",
              "27   I opened an account with chase bank on XXXX an...   \n",
              "14   my grand son give me check for {$1600.00} i de...   \n",
              "17   With out notice J.P. Morgan Chase restricted m...   \n",
              "24   mishandling of this account by Chase auto and ...   \n",
              "30   To whom it may concern, Chase bank charged wro...   \n",
              "2    I upgraded my XXXX XXXX card in XX/XX/2018 and...   \n",
              "45   I made a purchase with XXXX XXXX XXXX on XX/XX...   \n",
              "40   XXXX XXXX a sofa, love seat, table and chairs ...   \n",
              "21   On XXXX XX/XX/2019, I made a {$300.00} payment...   \n",
              "32   My chase amazon card was declined for a cateri...   \n",
              "82   I recently called to ask Chase bank why they r...   \n",
              "58   I made a purchase of {$260.00} on XX/XX/XXXX. ...   \n",
              "160  On more than one occasion my bank ( Chase ) ha...   \n",
              "20   During the summer months, I experience a decli...   \n",
              "141  Action Taken By The Company Between the dates ...   \n",
              "26   I have reached out to XXXX several times in at...   \n",
              "23   I have a Chase credit card which is incorrectl...   \n",
              "15                       Can you please remove inquiry   \n",
              "11   On XX/XX/2018, while trying to book a XXXX  XX...   \n",
              "10   Chase Card was reported on XX/XX/2019. However...   \n",
              "43   Chase sent me an email today with the innocuou...   \n",
              "48   JP Morgan Chase Bank, please answer the follow...   \n",
              "57   I have been trying to do a loan modification w...   \n",
              "73   I have wired through one of Chase branches in ...   \n",
              "1    Good morning my name is XXXX XXXX and I apprec...   \n",
              "\n",
              "                                 lemmatized_complaints  complaint_length  \\\n",
              "27   i opened an account with chase bank on xxxx an...               413   \n",
              "14   my grand son give me check for i deposit it in...               477   \n",
              "17   with out notice jp morgan chase restricted my ...              2277   \n",
              "24   mishandling of this account by chase auto and ...                51   \n",
              "30   to whom it may concern chase bank charged wron...               566   \n",
              "2    i upgraded my xxxx xxxx card in xxxx and wa to...               355   \n",
              "45   i made a purchase with xxxx xxxx xxxx on xxxx ...              1920   \n",
              "40   xxxx xxxx a sofa love seat table and chair and...               165   \n",
              "21   on xxxx xxxx i made a payment to an online ret...              3541   \n",
              "32   my chase amazon card wa declined for a caterin...              1972   \n",
              "82   i recently called to ask chase bank why they r...              1372   \n",
              "58   i made a purchase of on xxxxxxxx i made paymen...              1274   \n",
              "160  on more than one occasion my bank chase ha cha...              1196   \n",
              "20   during the summer month i experience a decline...              1396   \n",
              "141  action taken by the company between the date o...              6263   \n",
              "26   i have reached out to xxxx several time in att...               753   \n",
              "23   i have a chase credit card which is incorrectl...               129   \n",
              "15                       can you please remove inquiry                29   \n",
              "11   on xxxx while trying to book a xxxx xxxx ticke...              1502   \n",
              "10   chase card wa reported on xxxx however fraudul...               224   \n",
              "43   chase sent me an email today with the innocuou...               934   \n",
              "48   jp morgan chase bank please answer the followi...              1229   \n",
              "57   i have been trying to do a loan modification w...               190   \n",
              "73   i have wired through one of chase branch in xx...              1143   \n",
              "1    good morning my name is xxxx xxxx and i apprec...               486   \n",
              "\n",
              "                                       Complaint_clean  Topic  \n",
              "27   account bank code bonus term everything accoun...      0  \n",
              "14   son check chase account fund chase bank accoun...      0  \n",
              "17   notice account debit card branch customer serv...      0  \n",
              "24                                        account auto      0  \n",
              "30   concern overdraft fee alert balance unsuficent...      0  \n",
              "2    card agent anniversary date agent wa informati...      1  \n",
              "45   purchase amount transaction dispute case bank ...      1  \n",
              "40   sofa love seat table chair debit card bank vis...      1  \n",
              "21   payment retailer chase pay chase website scam ...      1  \n",
              "32   chase amazon card catering order brother funer...      1  \n",
              "82   credit bureau day payment info bill balance bi...      2  \n",
              "58   purchase payment payment closing date  stateme...      2  \n",
              "160  occasion bank chase overdraft fee account way ...      2  \n",
              "20   summer month decline income employment month p...      2  \n",
              "141  action company date individual group chase cla...      2  \n",
              "26   time attempt inquiry creditor inquiry report a...      3  \n",
              "23             credit card credit report company issue      3  \n",
              "15                                             inquiry      3  \n",
              "11   ticket offer ticket reward card information of...      3  \n",
              "10   card application identity consent service cred...      3  \n",
              "43   chase email today title information change cha...      4  \n",
              "48   question information reason information chase ...      4  \n",
              "57       loan modification chase runaround payment doc      4  \n",
              "73   chase branch reinstatement amount order forecl...      4  \n",
              "1    morning name stop debt verification statement ...      4  "
            ]
          },
          "execution_count": 154,
          "metadata": {},
          "output_type": "execute_result"
        }
      ],
      "source": [
        "#Print the first 5 Complaint for each of the Topics\n",
        "df_new_1 = df_new.groupby('Topic').head(5)\n",
        "df_new_1.sort_values('Topic')"
      ]
    },
    {
      "cell_type": "code",
      "execution_count": 155,
      "metadata": {},
      "outputs": [
        {
          "data": {
            "text/plain": [
              "(21072, 5)"
            ]
          },
          "execution_count": 155,
          "metadata": {},
          "output_type": "execute_result"
        }
      ],
      "source": [
        "df_new.shape"
      ]
    },
    {
      "cell_type": "markdown",
      "metadata": {
        "id": "piyLxzj6v07j"
      },
      "source": [
        "#### After evaluating the mapping, if the topics assigned are correct then assign these names to the relevant topic:\n",
        "* Bank Account services\n",
        "* Credit card or prepaid card\n",
        "* Theft/Dispute Reporting\n",
        "* Mortgage/Loan\n",
        "* Others"
      ]
    },
    {
      "cell_type": "code",
      "execution_count": 156,
      "metadata": {},
      "outputs": [
        {
          "name": "stdout",
          "output_type": "stream",
          "text": [
            "Topic 1:\n",
            "account check bank money chase fund day deposit branch transaction checking number fee claim business\n",
            "\n",
            "\n",
            "Topic 2:\n",
            "card charge chase credit dispute purchase transaction service fraud merchant time fee balance company customer\n",
            "\n",
            "\n",
            "Topic 3:\n",
            "payment balance fee month statement day time date chase credit auto year account error mortgage\n",
            "\n",
            "\n",
            "Topic 4:\n",
            "credit report inquiry card account score bureau company debt reporting information identity application theft limit\n",
            "\n",
            "\n",
            "Topic 5:\n",
            "loan mortgage chase home modification property year letter time document rate foreclosure house sale information\n",
            "\n",
            "\n"
          ]
        }
      ],
      "source": [
        "print_top_words(nmf_model, feature_names, 15)"
      ]
    },
    {
      "cell_type": "code",
      "execution_count": 157,
      "metadata": {
        "id": "TWpwDG4RJrGG"
      },
      "outputs": [],
      "source": [
        "#Create the dictionary of Topic names and Topics\n",
        "\n",
        "Topic_names = {\n",
        "    0: \"Bank Account services\",\n",
        "    1: \"Credit card or prepaid card\",\n",
        "    2: \"Others\",\n",
        "    3: \"Theft/Dispute Reporting\",\n",
        "    4: \"Mortgage/Loan\",\n",
        "}\n",
        "#Replace Topics with Topic Names\n",
        "df_new['Topic'] = df_new['Topic'].map(Topic_names)"
      ]
    },
    {
      "cell_type": "code",
      "execution_count": 158,
      "metadata": {},
      "outputs": [
        {
          "data": {
            "text/plain": [
              "(21072, 5)"
            ]
          },
          "execution_count": 158,
          "metadata": {},
          "output_type": "execute_result"
        }
      ],
      "source": [
        "df_new.shape"
      ]
    },
    {
      "cell_type": "code",
      "execution_count": 159,
      "metadata": {
        "id": "-2ULY5K6JrGG"
      },
      "outputs": [
        {
          "data": {
            "text/html": [
              "<div>\n",
              "<style scoped>\n",
              "    .dataframe tbody tr th:only-of-type {\n",
              "        vertical-align: middle;\n",
              "    }\n",
              "\n",
              "    .dataframe tbody tr th {\n",
              "        vertical-align: top;\n",
              "    }\n",
              "\n",
              "    .dataframe thead th {\n",
              "        text-align: right;\n",
              "    }\n",
              "</style>\n",
              "<table border=\"1\" class=\"dataframe\">\n",
              "  <thead>\n",
              "    <tr style=\"text-align: right;\">\n",
              "      <th></th>\n",
              "      <th>complaint_text</th>\n",
              "      <th>lemmatized_complaints</th>\n",
              "      <th>complaint_length</th>\n",
              "      <th>Complaint_clean</th>\n",
              "      <th>Topic</th>\n",
              "    </tr>\n",
              "  </thead>\n",
              "  <tbody>\n",
              "    <tr>\n",
              "      <th>1</th>\n",
              "      <td>Good morning my name is XXXX XXXX and I apprec...</td>\n",
              "      <td>good morning my name is xxxx xxxx and i apprec...</td>\n",
              "      <td>486</td>\n",
              "      <td>morning name stop debt verification statement ...</td>\n",
              "      <td>Mortgage/Loan</td>\n",
              "    </tr>\n",
              "    <tr>\n",
              "      <th>2</th>\n",
              "      <td>I upgraded my XXXX XXXX card in XX/XX/2018 and...</td>\n",
              "      <td>i upgraded my xxxx xxxx card in xxxx and wa to...</td>\n",
              "      <td>355</td>\n",
              "      <td>card agent anniversary date agent wa informati...</td>\n",
              "      <td>Credit card or prepaid card</td>\n",
              "    </tr>\n",
              "    <tr>\n",
              "      <th>10</th>\n",
              "      <td>Chase Card was reported on XX/XX/2019. However...</td>\n",
              "      <td>chase card wa reported on xxxx however fraudul...</td>\n",
              "      <td>224</td>\n",
              "      <td>card application identity consent service cred...</td>\n",
              "      <td>Theft/Dispute Reporting</td>\n",
              "    </tr>\n",
              "    <tr>\n",
              "      <th>11</th>\n",
              "      <td>On XX/XX/2018, while trying to book a XXXX  XX...</td>\n",
              "      <td>on xxxx while trying to book a xxxx xxxx ticke...</td>\n",
              "      <td>1502</td>\n",
              "      <td>ticket offer ticket reward card information of...</td>\n",
              "      <td>Theft/Dispute Reporting</td>\n",
              "    </tr>\n",
              "    <tr>\n",
              "      <th>14</th>\n",
              "      <td>my grand son give me check for {$1600.00} i de...</td>\n",
              "      <td>my grand son give me check for i deposit it in...</td>\n",
              "      <td>477</td>\n",
              "      <td>son check chase account fund chase bank accoun...</td>\n",
              "      <td>Bank Account services</td>\n",
              "    </tr>\n",
              "    <tr>\n",
              "      <th>...</th>\n",
              "      <td>...</td>\n",
              "      <td>...</td>\n",
              "      <td>...</td>\n",
              "      <td>...</td>\n",
              "      <td>...</td>\n",
              "    </tr>\n",
              "    <tr>\n",
              "      <th>78303</th>\n",
              "      <td>After being a Chase Card customer for well ove...</td>\n",
              "      <td>after being a chase card customer for well ove...</td>\n",
              "      <td>679</td>\n",
              "      <td>chase card customer decade solicitation credit...</td>\n",
              "      <td>Credit card or prepaid card</td>\n",
              "    </tr>\n",
              "    <tr>\n",
              "      <th>78309</th>\n",
              "      <td>On Wednesday, XX/XX/XXXX I called Chas, my XXX...</td>\n",
              "      <td>on wednesday xxxxxxxx i called chas my xxxx xx...</td>\n",
              "      <td>2114</td>\n",
              "      <td>credit card provider claim purchase protection...</td>\n",
              "      <td>Credit card or prepaid card</td>\n",
              "    </tr>\n",
              "    <tr>\n",
              "      <th>78310</th>\n",
              "      <td>I am not familiar with XXXX pay and did not un...</td>\n",
              "      <td>i am not familiar with xxxx pay and did not un...</td>\n",
              "      <td>2319</td>\n",
              "      <td>pay risk consumer chase bank app chase year ba...</td>\n",
              "      <td>Credit card or prepaid card</td>\n",
              "    </tr>\n",
              "    <tr>\n",
              "      <th>78311</th>\n",
              "      <td>I have had flawless credit for 30 yrs. I've ha...</td>\n",
              "      <td>i have had flawless credit for yr ive had chas...</td>\n",
              "      <td>2171</td>\n",
              "      <td>credit yr credit card chase freedom problem ba...</td>\n",
              "      <td>Others</td>\n",
              "    </tr>\n",
              "    <tr>\n",
              "      <th>78312</th>\n",
              "      <td>Roughly 10+ years ago I closed out my accounts...</td>\n",
              "      <td>roughly year ago i closed out my account with ...</td>\n",
              "      <td>794</td>\n",
              "      <td>year account order line credit account payment...</td>\n",
              "      <td>Others</td>\n",
              "    </tr>\n",
              "  </tbody>\n",
              "</table>\n",
              "<p>21072 rows × 5 columns</p>\n",
              "</div>"
            ],
            "text/plain": [
              "                                          complaint_text  \\\n",
              "1      Good morning my name is XXXX XXXX and I apprec...   \n",
              "2      I upgraded my XXXX XXXX card in XX/XX/2018 and...   \n",
              "10     Chase Card was reported on XX/XX/2019. However...   \n",
              "11     On XX/XX/2018, while trying to book a XXXX  XX...   \n",
              "14     my grand son give me check for {$1600.00} i de...   \n",
              "...                                                  ...   \n",
              "78303  After being a Chase Card customer for well ove...   \n",
              "78309  On Wednesday, XX/XX/XXXX I called Chas, my XXX...   \n",
              "78310  I am not familiar with XXXX pay and did not un...   \n",
              "78311  I have had flawless credit for 30 yrs. I've ha...   \n",
              "78312  Roughly 10+ years ago I closed out my accounts...   \n",
              "\n",
              "                                   lemmatized_complaints  complaint_length  \\\n",
              "1      good morning my name is xxxx xxxx and i apprec...               486   \n",
              "2      i upgraded my xxxx xxxx card in xxxx and wa to...               355   \n",
              "10     chase card wa reported on xxxx however fraudul...               224   \n",
              "11     on xxxx while trying to book a xxxx xxxx ticke...              1502   \n",
              "14     my grand son give me check for i deposit it in...               477   \n",
              "...                                                  ...               ...   \n",
              "78303  after being a chase card customer for well ove...               679   \n",
              "78309  on wednesday xxxxxxxx i called chas my xxxx xx...              2114   \n",
              "78310  i am not familiar with xxxx pay and did not un...              2319   \n",
              "78311  i have had flawless credit for yr ive had chas...              2171   \n",
              "78312  roughly year ago i closed out my account with ...               794   \n",
              "\n",
              "                                         Complaint_clean  \\\n",
              "1      morning name stop debt verification statement ...   \n",
              "2      card agent anniversary date agent wa informati...   \n",
              "10     card application identity consent service cred...   \n",
              "11     ticket offer ticket reward card information of...   \n",
              "14     son check chase account fund chase bank accoun...   \n",
              "...                                                  ...   \n",
              "78303  chase card customer decade solicitation credit...   \n",
              "78309  credit card provider claim purchase protection...   \n",
              "78310  pay risk consumer chase bank app chase year ba...   \n",
              "78311  credit yr credit card chase freedom problem ba...   \n",
              "78312  year account order line credit account payment...   \n",
              "\n",
              "                             Topic  \n",
              "1                    Mortgage/Loan  \n",
              "2      Credit card or prepaid card  \n",
              "10         Theft/Dispute Reporting  \n",
              "11         Theft/Dispute Reporting  \n",
              "14           Bank Account services  \n",
              "...                            ...  \n",
              "78303  Credit card or prepaid card  \n",
              "78309  Credit card or prepaid card  \n",
              "78310  Credit card or prepaid card  \n",
              "78311                       Others  \n",
              "78312                       Others  \n",
              "\n",
              "[21072 rows x 5 columns]"
            ]
          },
          "execution_count": 159,
          "metadata": {},
          "output_type": "execute_result"
        }
      ],
      "source": [
        "df_new"
      ]
    },
    {
      "cell_type": "code",
      "execution_count": 160,
      "metadata": {},
      "outputs": [
        {
          "name": "stdout",
          "output_type": "stream",
          "text": [
            "(21072, 5)\n",
            "(21072, 4)\n"
          ]
        }
      ],
      "source": [
        "print(df_new.shape)\n",
        "print(df_clean.shape)"
      ]
    },
    {
      "cell_type": "markdown",
      "metadata": {
        "id": "7Mu0QBOcJrGH"
      },
      "source": [
        "## Supervised model to predict any new complaints to the relevant Topics.\n",
        "\n",
        "You have now build the model to create the topics for each complaints.Now in the below section you will use them to classify any new complaints.\n",
        "\n",
        "Since you will be using supervised learning technique we have to convert the topic names to numbers(numpy arrays only understand numbers)"
      ]
    },
    {
      "cell_type": "code",
      "execution_count": 161,
      "metadata": {},
      "outputs": [
        {
          "data": {
            "text/html": [
              "<div>\n",
              "<style scoped>\n",
              "    .dataframe tbody tr th:only-of-type {\n",
              "        vertical-align: middle;\n",
              "    }\n",
              "\n",
              "    .dataframe tbody tr th {\n",
              "        vertical-align: top;\n",
              "    }\n",
              "\n",
              "    .dataframe thead th {\n",
              "        text-align: right;\n",
              "    }\n",
              "</style>\n",
              "<table border=\"1\" class=\"dataframe\">\n",
              "  <thead>\n",
              "    <tr style=\"text-align: right;\">\n",
              "      <th></th>\n",
              "      <th>complaint_text</th>\n",
              "      <th>lemmatized_complaints</th>\n",
              "      <th>complaint_length</th>\n",
              "      <th>Complaint_clean</th>\n",
              "      <th>Topic</th>\n",
              "    </tr>\n",
              "  </thead>\n",
              "  <tbody>\n",
              "    <tr>\n",
              "      <th>1</th>\n",
              "      <td>Good morning my name is XXXX XXXX and I apprec...</td>\n",
              "      <td>good morning my name is xxxx xxxx and i apprec...</td>\n",
              "      <td>486</td>\n",
              "      <td>morning name stop debt verification statement ...</td>\n",
              "      <td>Mortgage/Loan</td>\n",
              "    </tr>\n",
              "    <tr>\n",
              "      <th>2</th>\n",
              "      <td>I upgraded my XXXX XXXX card in XX/XX/2018 and...</td>\n",
              "      <td>i upgraded my xxxx xxxx card in xxxx and wa to...</td>\n",
              "      <td>355</td>\n",
              "      <td>card agent anniversary date agent wa informati...</td>\n",
              "      <td>Credit card or prepaid card</td>\n",
              "    </tr>\n",
              "    <tr>\n",
              "      <th>10</th>\n",
              "      <td>Chase Card was reported on XX/XX/2019. However...</td>\n",
              "      <td>chase card wa reported on xxxx however fraudul...</td>\n",
              "      <td>224</td>\n",
              "      <td>card application identity consent service cred...</td>\n",
              "      <td>Theft/Dispute Reporting</td>\n",
              "    </tr>\n",
              "    <tr>\n",
              "      <th>11</th>\n",
              "      <td>On XX/XX/2018, while trying to book a XXXX  XX...</td>\n",
              "      <td>on xxxx while trying to book a xxxx xxxx ticke...</td>\n",
              "      <td>1502</td>\n",
              "      <td>ticket offer ticket reward card information of...</td>\n",
              "      <td>Theft/Dispute Reporting</td>\n",
              "    </tr>\n",
              "    <tr>\n",
              "      <th>14</th>\n",
              "      <td>my grand son give me check for {$1600.00} i de...</td>\n",
              "      <td>my grand son give me check for i deposit it in...</td>\n",
              "      <td>477</td>\n",
              "      <td>son check chase account fund chase bank accoun...</td>\n",
              "      <td>Bank Account services</td>\n",
              "    </tr>\n",
              "    <tr>\n",
              "      <th>...</th>\n",
              "      <td>...</td>\n",
              "      <td>...</td>\n",
              "      <td>...</td>\n",
              "      <td>...</td>\n",
              "      <td>...</td>\n",
              "    </tr>\n",
              "    <tr>\n",
              "      <th>78303</th>\n",
              "      <td>After being a Chase Card customer for well ove...</td>\n",
              "      <td>after being a chase card customer for well ove...</td>\n",
              "      <td>679</td>\n",
              "      <td>chase card customer decade solicitation credit...</td>\n",
              "      <td>Credit card or prepaid card</td>\n",
              "    </tr>\n",
              "    <tr>\n",
              "      <th>78309</th>\n",
              "      <td>On Wednesday, XX/XX/XXXX I called Chas, my XXX...</td>\n",
              "      <td>on wednesday xxxxxxxx i called chas my xxxx xx...</td>\n",
              "      <td>2114</td>\n",
              "      <td>credit card provider claim purchase protection...</td>\n",
              "      <td>Credit card or prepaid card</td>\n",
              "    </tr>\n",
              "    <tr>\n",
              "      <th>78310</th>\n",
              "      <td>I am not familiar with XXXX pay and did not un...</td>\n",
              "      <td>i am not familiar with xxxx pay and did not un...</td>\n",
              "      <td>2319</td>\n",
              "      <td>pay risk consumer chase bank app chase year ba...</td>\n",
              "      <td>Credit card or prepaid card</td>\n",
              "    </tr>\n",
              "    <tr>\n",
              "      <th>78311</th>\n",
              "      <td>I have had flawless credit for 30 yrs. I've ha...</td>\n",
              "      <td>i have had flawless credit for yr ive had chas...</td>\n",
              "      <td>2171</td>\n",
              "      <td>credit yr credit card chase freedom problem ba...</td>\n",
              "      <td>Others</td>\n",
              "    </tr>\n",
              "    <tr>\n",
              "      <th>78312</th>\n",
              "      <td>Roughly 10+ years ago I closed out my accounts...</td>\n",
              "      <td>roughly year ago i closed out my account with ...</td>\n",
              "      <td>794</td>\n",
              "      <td>year account order line credit account payment...</td>\n",
              "      <td>Others</td>\n",
              "    </tr>\n",
              "  </tbody>\n",
              "</table>\n",
              "<p>21072 rows × 5 columns</p>\n",
              "</div>"
            ],
            "text/plain": [
              "                                          complaint_text  \\\n",
              "1      Good morning my name is XXXX XXXX and I apprec...   \n",
              "2      I upgraded my XXXX XXXX card in XX/XX/2018 and...   \n",
              "10     Chase Card was reported on XX/XX/2019. However...   \n",
              "11     On XX/XX/2018, while trying to book a XXXX  XX...   \n",
              "14     my grand son give me check for {$1600.00} i de...   \n",
              "...                                                  ...   \n",
              "78303  After being a Chase Card customer for well ove...   \n",
              "78309  On Wednesday, XX/XX/XXXX I called Chas, my XXX...   \n",
              "78310  I am not familiar with XXXX pay and did not un...   \n",
              "78311  I have had flawless credit for 30 yrs. I've ha...   \n",
              "78312  Roughly 10+ years ago I closed out my accounts...   \n",
              "\n",
              "                                   lemmatized_complaints  complaint_length  \\\n",
              "1      good morning my name is xxxx xxxx and i apprec...               486   \n",
              "2      i upgraded my xxxx xxxx card in xxxx and wa to...               355   \n",
              "10     chase card wa reported on xxxx however fraudul...               224   \n",
              "11     on xxxx while trying to book a xxxx xxxx ticke...              1502   \n",
              "14     my grand son give me check for i deposit it in...               477   \n",
              "...                                                  ...               ...   \n",
              "78303  after being a chase card customer for well ove...               679   \n",
              "78309  on wednesday xxxxxxxx i called chas my xxxx xx...              2114   \n",
              "78310  i am not familiar with xxxx pay and did not un...              2319   \n",
              "78311  i have had flawless credit for yr ive had chas...              2171   \n",
              "78312  roughly year ago i closed out my account with ...               794   \n",
              "\n",
              "                                         Complaint_clean  \\\n",
              "1      morning name stop debt verification statement ...   \n",
              "2      card agent anniversary date agent wa informati...   \n",
              "10     card application identity consent service cred...   \n",
              "11     ticket offer ticket reward card information of...   \n",
              "14     son check chase account fund chase bank accoun...   \n",
              "...                                                  ...   \n",
              "78303  chase card customer decade solicitation credit...   \n",
              "78309  credit card provider claim purchase protection...   \n",
              "78310  pay risk consumer chase bank app chase year ba...   \n",
              "78311  credit yr credit card chase freedom problem ba...   \n",
              "78312  year account order line credit account payment...   \n",
              "\n",
              "                             Topic  \n",
              "1                    Mortgage/Loan  \n",
              "2      Credit card or prepaid card  \n",
              "10         Theft/Dispute Reporting  \n",
              "11         Theft/Dispute Reporting  \n",
              "14           Bank Account services  \n",
              "...                            ...  \n",
              "78303  Credit card or prepaid card  \n",
              "78309  Credit card or prepaid card  \n",
              "78310  Credit card or prepaid card  \n",
              "78311                       Others  \n",
              "78312                       Others  \n",
              "\n",
              "[21072 rows x 5 columns]"
            ]
          },
          "execution_count": 161,
          "metadata": {},
          "output_type": "execute_result"
        }
      ],
      "source": [
        "df_new"
      ]
    },
    {
      "cell_type": "code",
      "execution_count": 162,
      "metadata": {
        "id": "Xx-FrbkWJrGH"
      },
      "outputs": [],
      "source": [
        "#Keep the columns\"complaint_what_happened\" & \"Topic\" only in the new dataframe --> training_data\n",
        "training_data = df_new[['complaint_text', 'Topic']]"
      ]
    },
    {
      "cell_type": "code",
      "execution_count": 163,
      "metadata": {
        "id": "lVg2pa12JrGI"
      },
      "outputs": [
        {
          "data": {
            "text/html": [
              "<div>\n",
              "<style scoped>\n",
              "    .dataframe tbody tr th:only-of-type {\n",
              "        vertical-align: middle;\n",
              "    }\n",
              "\n",
              "    .dataframe tbody tr th {\n",
              "        vertical-align: top;\n",
              "    }\n",
              "\n",
              "    .dataframe thead th {\n",
              "        text-align: right;\n",
              "    }\n",
              "</style>\n",
              "<table border=\"1\" class=\"dataframe\">\n",
              "  <thead>\n",
              "    <tr style=\"text-align: right;\">\n",
              "      <th></th>\n",
              "      <th>complaint_text</th>\n",
              "      <th>Topic</th>\n",
              "    </tr>\n",
              "  </thead>\n",
              "  <tbody>\n",
              "    <tr>\n",
              "      <th>1</th>\n",
              "      <td>Good morning my name is XXXX XXXX and I apprec...</td>\n",
              "      <td>Mortgage/Loan</td>\n",
              "    </tr>\n",
              "    <tr>\n",
              "      <th>2</th>\n",
              "      <td>I upgraded my XXXX XXXX card in XX/XX/2018 and...</td>\n",
              "      <td>Credit card or prepaid card</td>\n",
              "    </tr>\n",
              "    <tr>\n",
              "      <th>10</th>\n",
              "      <td>Chase Card was reported on XX/XX/2019. However...</td>\n",
              "      <td>Theft/Dispute Reporting</td>\n",
              "    </tr>\n",
              "    <tr>\n",
              "      <th>11</th>\n",
              "      <td>On XX/XX/2018, while trying to book a XXXX  XX...</td>\n",
              "      <td>Theft/Dispute Reporting</td>\n",
              "    </tr>\n",
              "    <tr>\n",
              "      <th>14</th>\n",
              "      <td>my grand son give me check for {$1600.00} i de...</td>\n",
              "      <td>Bank Account services</td>\n",
              "    </tr>\n",
              "    <tr>\n",
              "      <th>...</th>\n",
              "      <td>...</td>\n",
              "      <td>...</td>\n",
              "    </tr>\n",
              "    <tr>\n",
              "      <th>78303</th>\n",
              "      <td>After being a Chase Card customer for well ove...</td>\n",
              "      <td>Credit card or prepaid card</td>\n",
              "    </tr>\n",
              "    <tr>\n",
              "      <th>78309</th>\n",
              "      <td>On Wednesday, XX/XX/XXXX I called Chas, my XXX...</td>\n",
              "      <td>Credit card or prepaid card</td>\n",
              "    </tr>\n",
              "    <tr>\n",
              "      <th>78310</th>\n",
              "      <td>I am not familiar with XXXX pay and did not un...</td>\n",
              "      <td>Credit card or prepaid card</td>\n",
              "    </tr>\n",
              "    <tr>\n",
              "      <th>78311</th>\n",
              "      <td>I have had flawless credit for 30 yrs. I've ha...</td>\n",
              "      <td>Others</td>\n",
              "    </tr>\n",
              "    <tr>\n",
              "      <th>78312</th>\n",
              "      <td>Roughly 10+ years ago I closed out my accounts...</td>\n",
              "      <td>Others</td>\n",
              "    </tr>\n",
              "  </tbody>\n",
              "</table>\n",
              "<p>21072 rows × 2 columns</p>\n",
              "</div>"
            ],
            "text/plain": [
              "                                          complaint_text  \\\n",
              "1      Good morning my name is XXXX XXXX and I apprec...   \n",
              "2      I upgraded my XXXX XXXX card in XX/XX/2018 and...   \n",
              "10     Chase Card was reported on XX/XX/2019. However...   \n",
              "11     On XX/XX/2018, while trying to book a XXXX  XX...   \n",
              "14     my grand son give me check for {$1600.00} i de...   \n",
              "...                                                  ...   \n",
              "78303  After being a Chase Card customer for well ove...   \n",
              "78309  On Wednesday, XX/XX/XXXX I called Chas, my XXX...   \n",
              "78310  I am not familiar with XXXX pay and did not un...   \n",
              "78311  I have had flawless credit for 30 yrs. I've ha...   \n",
              "78312  Roughly 10+ years ago I closed out my accounts...   \n",
              "\n",
              "                             Topic  \n",
              "1                    Mortgage/Loan  \n",
              "2      Credit card or prepaid card  \n",
              "10         Theft/Dispute Reporting  \n",
              "11         Theft/Dispute Reporting  \n",
              "14           Bank Account services  \n",
              "...                            ...  \n",
              "78303  Credit card or prepaid card  \n",
              "78309  Credit card or prepaid card  \n",
              "78310  Credit card or prepaid card  \n",
              "78311                       Others  \n",
              "78312                       Others  \n",
              "\n",
              "[21072 rows x 2 columns]"
            ]
          },
          "execution_count": 163,
          "metadata": {},
          "output_type": "execute_result"
        }
      ],
      "source": [
        "training_data"
      ]
    },
    {
      "cell_type": "markdown",
      "metadata": {
        "id": "280Vbqk-7a8M"
      },
      "source": [
        "####Apply the supervised models on the training data created. In this process, you have to do the following:\n",
        "* Create the vector counts using Count Vectoriser\n",
        "* Transform the word vecotr to tf-idf\n",
        "* Create the train & test data using the train_test_split on the tf-idf & topics\n"
      ]
    },
    {
      "cell_type": "code",
      "execution_count": 164,
      "metadata": {
        "id": "oUlQpgkzJrGI"
      },
      "outputs": [],
      "source": [
        "from sklearn.feature_extraction.text import TfidfTransformer\n",
        "from sklearn.feature_extraction.text import CountVectorizer\n",
        "\n",
        "#Write your code to get the Vector count\n",
        "count_vectorizer = CountVectorizer(stop_words='english')\n",
        "#Transform the complaint_text column to a word vector\n",
        "X_counts = count_vectorizer.fit_transform(training_data['complaint_text'])\n",
        "\n",
        "#Write your code here to transform the word vector to tf-idf\n",
        "tfidf_transformer = TfidfTransformer()\n",
        "X_tfidf = tfidf_transformer.fit_transform(X_counts)"
      ]
    },
    {
      "cell_type": "markdown",
      "metadata": {
        "id": "uMU3vj6w-wqL"
      },
      "source": [
        "You have to try atleast 3 models on the train & test data from these options:\n",
        "* Logistic regression\n",
        "* Decision Tree\n",
        "* Random Forest\n",
        "* Naive Bayes (optional)\n",
        "\n",
        "**Using the required evaluation metrics judge the tried models and select the ones performing the best**"
      ]
    },
    {
      "cell_type": "code",
      "execution_count": 165,
      "metadata": {},
      "outputs": [
        {
          "data": {
            "text/plain": [
              "(21072, 2)"
            ]
          },
          "execution_count": 165,
          "metadata": {},
          "output_type": "execute_result"
        }
      ],
      "source": [
        "training_data.shape"
      ]
    },
    {
      "cell_type": "code",
      "execution_count": 167,
      "metadata": {
        "id": "udLHpPsZJrGI"
      },
      "outputs": [
        {
          "name": "stdout",
          "output_type": "stream",
          "text": [
            "Training Set Shape: (16857, 29415)\n",
            "Testing Set Shape: (4215, 29415)\n"
          ]
        }
      ],
      "source": [
        "# Write your code here to build any 3 models and evaluate them using the required metrics\n",
        "# Create Train-Test Split\n",
        "\n",
        "from sklearn.linear_model import LogisticRegression\n",
        "from sklearn.tree import DecisionTreeClassifier\n",
        "from sklearn.ensemble import RandomForestClassifier\n",
        "from sklearn.metrics import classification_report, accuracy_score\n",
        "from sklearn.model_selection import train_test_split\n",
        "\n",
        "\n",
        "# Define the features (X) and target (y)\n",
        "X = X_tfidf  # TF-IDF matrix\n",
        "y = training_data['Topic']  # Target column\n",
        "\n",
        "# Split the data into training and testing sets\n",
        "X_train, X_test, y_train, y_test = train_test_split(X, y, test_size=0.2, random_state=42)\n",
        "\n",
        "# Verify the shapes of the train and test sets\n",
        "print(\"Training Set Shape:\", X_train.shape)\n",
        "print(\"Testing Set Shape:\", X_test.shape)\n",
        "\n",
        "\n"
      ]
    },
    {
      "cell_type": "code",
      "execution_count": 169,
      "metadata": {
        "id": "N2OznsObJrGP"
      },
      "outputs": [
        {
          "name": "stdout",
          "output_type": "stream",
          "text": [
            "Cleaned Dataset Size: 21072\n",
            "Original Dataset Size: 21072\n"
          ]
        }
      ],
      "source": [
        "# Validate original and cleaned dataset size\n",
        "print(\"Cleaned Dataset Size:\", len(df_new))\n",
        "print(\"Original Dataset Size:\", len(df))"
      ]
    },
    {
      "cell_type": "code",
      "execution_count": 170,
      "metadata": {},
      "outputs": [
        {
          "name": "stdout",
          "output_type": "stream",
          "text": [
            "Missing Values in Original Dataset:\n",
            "complaint_text              0\n",
            "product                     0\n",
            "sub_product              2109\n",
            "cleaned_text                0\n",
            "lemmatized_complaints       0\n",
            "dtype: int64\n",
            "Missing Values in Cleaned Dataset:\n",
            "complaint_text           0\n",
            "lemmatized_complaints    0\n",
            "complaint_length         0\n",
            "Complaint_clean          0\n",
            "dtype: int64\n",
            "Duplicate Rows in Original Dataset: 133\n",
            "Duplicate Rows in Cleaned Dataset: 142\n"
          ]
        }
      ],
      "source": [
        "# Verify null and duplicate values count\n",
        "print(\"Missing Values in Original Dataset:\")\n",
        "print(df.isnull().sum())\n",
        "print(\"Missing Values in Cleaned Dataset:\")\n",
        "print(df_clean.isnull().sum())\n",
        "\n",
        "print(\"Duplicate Rows in Original Dataset:\", df.duplicated().sum())\n",
        "print(\"Duplicate Rows in Cleaned Dataset:\", df_clean.duplicated().sum())"
      ]
    },
    {
      "cell_type": "markdown",
      "metadata": {},
      "source": [
        "Logistic Regression"
      ]
    },
    {
      "cell_type": "code",
      "execution_count": 171,
      "metadata": {},
      "outputs": [
        {
          "name": "stdout",
          "output_type": "stream",
          "text": [
            "Logistic Regression Results:\n",
            "Accuracy: 0.9285883748517201\n",
            "                             precision    recall  f1-score   support\n",
            "\n",
            "      Bank Account services       0.92      0.95      0.94      1175\n",
            "Credit card or prepaid card       0.91      0.96      0.93      1232\n",
            "              Mortgage/Loan       0.94      0.93      0.94       757\n",
            "                     Others       0.98      0.85      0.91       502\n",
            "    Theft/Dispute Reporting       0.94      0.88      0.91       549\n",
            "\n",
            "                   accuracy                           0.93      4215\n",
            "                  macro avg       0.94      0.91      0.92      4215\n",
            "               weighted avg       0.93      0.93      0.93      4215\n",
            "\n"
          ]
        }
      ],
      "source": [
        "log_reg = LogisticRegression(random_state=42, max_iter=1000)\n",
        "log_reg.fit(X_train, y_train)\n",
        "\n",
        "# Predict on the test set\n",
        "y_pred_log_reg = log_reg.predict(X_test)\n",
        "\n",
        "# Evaluate Logistic Regression\n",
        "print(\"Logistic Regression Results:\")\n",
        "print(\"Accuracy:\", accuracy_score(y_test, y_pred_log_reg))\n",
        "print(classification_report(y_test, y_pred_log_reg))"
      ]
    },
    {
      "cell_type": "markdown",
      "metadata": {},
      "source": [
        "Decision Tree"
      ]
    },
    {
      "cell_type": "code",
      "execution_count": 172,
      "metadata": {},
      "outputs": [
        {
          "name": "stdout",
          "output_type": "stream",
          "text": [
            "Decision Tree Results:\n",
            "Accuracy: 0.8128113879003559\n",
            "                             precision    recall  f1-score   support\n",
            "\n",
            "      Bank Account services       0.83      0.84      0.83      1175\n",
            "Credit card or prepaid card       0.82      0.83      0.82      1232\n",
            "              Mortgage/Loan       0.83      0.80      0.82       757\n",
            "                     Others       0.79      0.78      0.79       502\n",
            "    Theft/Dispute Reporting       0.76      0.75      0.76       549\n",
            "\n",
            "                   accuracy                           0.81      4215\n",
            "                  macro avg       0.81      0.80      0.80      4215\n",
            "               weighted avg       0.81      0.81      0.81      4215\n",
            "\n"
          ]
        }
      ],
      "source": [
        "decision_tree = DecisionTreeClassifier(random_state=42)\n",
        "decision_tree.fit(X_train, y_train)\n",
        "\n",
        "# Predict on the test set\n",
        "y_pred_decision_tree = decision_tree.predict(X_test)\n",
        "\n",
        "# Evaluate Decision Tree\n",
        "print(\"Decision Tree Results:\")\n",
        "print(\"Accuracy:\", accuracy_score(y_test, y_pred_decision_tree))\n",
        "print(classification_report(y_test, y_pred_decision_tree))"
      ]
    },
    {
      "cell_type": "markdown",
      "metadata": {},
      "source": [
        "Random Forest"
      ]
    },
    {
      "cell_type": "code",
      "execution_count": 173,
      "metadata": {},
      "outputs": [
        {
          "name": "stdout",
          "output_type": "stream",
          "text": [
            "Random Forest Results:\n",
            "Accuracy: 0.8322657176749704\n",
            "                             precision    recall  f1-score   support\n",
            "\n",
            "      Bank Account services       0.83      0.92      0.87      1175\n",
            "Credit card or prepaid card       0.78      0.91      0.84      1232\n",
            "              Mortgage/Loan       0.88      0.87      0.87       757\n",
            "                     Others       0.93      0.49      0.64       502\n",
            "    Theft/Dispute Reporting       0.88      0.73      0.79       549\n",
            "\n",
            "                   accuracy                           0.83      4215\n",
            "                  macro avg       0.86      0.78      0.80      4215\n",
            "               weighted avg       0.84      0.83      0.83      4215\n",
            "\n"
          ]
        }
      ],
      "source": [
        "random_forest = RandomForestClassifier(random_state=42, n_estimators=100)\n",
        "random_forest.fit(X_train, y_train)\n",
        "\n",
        "# Predict on the test set\n",
        "y_pred_random_forest = random_forest.predict(X_test)\n",
        "\n",
        "# Evaluate Random Forest\n",
        "print(\"Random Forest Results:\")\n",
        "print(\"Accuracy:\", accuracy_score(y_test, y_pred_random_forest))\n",
        "print(classification_report(y_test, y_pred_random_forest))"
      ]
    },
    {
      "cell_type": "markdown",
      "metadata": {},
      "source": [
        "Naive Bayes"
      ]
    },
    {
      "cell_type": "code",
      "execution_count": 174,
      "metadata": {},
      "outputs": [
        {
          "name": "stdout",
          "output_type": "stream",
          "text": [
            "Naive Bayes Results:\n",
            "Accuracy: 0.7048635824436537\n",
            "                             precision    recall  f1-score   support\n",
            "\n",
            "      Bank Account services       0.74      0.87      0.80      1175\n",
            "Credit card or prepaid card       0.60      0.91      0.73      1232\n",
            "              Mortgage/Loan       0.82      0.78      0.80       757\n",
            "                     Others       0.92      0.09      0.17       502\n",
            "    Theft/Dispute Reporting       0.93      0.35      0.50       549\n",
            "\n",
            "                   accuracy                           0.70      4215\n",
            "                  macro avg       0.80      0.60      0.60      4215\n",
            "               weighted avg       0.76      0.70      0.66      4215\n",
            "\n"
          ]
        }
      ],
      "source": [
        "from sklearn.model_selection import train_test_split\n",
        "from sklearn.naive_bayes import MultinomialNB\n",
        "\n",
        "# Naive Bayes\n",
        "naive_bayes = MultinomialNB()\n",
        "naive_bayes.fit(X_train, y_train)\n",
        "\n",
        "# Predict on the test set\n",
        "y_pred_naive_bayes = naive_bayes.predict(X_test)\n",
        "\n",
        "# Evaluate Naive Bayes\n",
        "print(\"Naive Bayes Results:\")\n",
        "print(\"Accuracy:\", accuracy_score(y_test, y_pred_naive_bayes))\n",
        "print(classification_report(y_test, y_pred_naive_bayes))"
      ]
    },
    {
      "cell_type": "markdown",
      "metadata": {},
      "source": [
        "Logitic Regression has the highest accuracy of 92%"
      ]
    },
    {
      "cell_type": "code",
      "execution_count": 191,
      "metadata": {},
      "outputs": [],
      "source": [
        "# Random complaint\n",
        "\n",
        "random_complaint = \"I am experiencing issues with my credit card. The charges are not reflecting correctly on my statement and I've been overcharged for several purchases. I need this resolved immediately as it is impacting my finances.\""
      ]
    },
    {
      "cell_type": "code",
      "execution_count": 190,
      "metadata": {},
      "outputs": [
        {
          "name": "stdout",
          "output_type": "stream",
          "text": [
            "Predicted Topic for Random Complaint: Credit card or prepaid card\n"
          ]
        }
      ],
      "source": [
        "processed_text = clean_text(random_complaint)\n",
        "inference_tfidf = tfidf_transformer.transform(count_vectorizer.transform([processed_text]))\n",
        "\n",
        "# Predict the topic for the random complaint using the best model (Logistic Regression)\n",
        "predicted_topic = log_reg.predict(inference_tfidf)\n",
        "\n",
        "print(\"Predicted Topic for Random Complaint:\", predicted_topic[0])\n",
        "\n"
      ]
    },
    {
      "cell_type": "code",
      "execution_count": null,
      "metadata": {},
      "outputs": [],
      "source": []
    }
  ],
  "metadata": {
    "colab": {
      "collapsed_sections": [
        "T9jD_6SeJrF3",
        "5DfCSbbmJrF4",
        "yYzD85nTJrGA",
        "piyLxzj6v07j",
        "280Vbqk-7a8M"
      ],
      "provenance": []
    },
    "kernelspec": {
      "display_name": "base",
      "language": "python",
      "name": "python3"
    },
    "language_info": {
      "codemirror_mode": {
        "name": "ipython",
        "version": 3
      },
      "file_extension": ".py",
      "mimetype": "text/x-python",
      "name": "python",
      "nbconvert_exporter": "python",
      "pygments_lexer": "ipython3",
      "version": "3.11.7"
    }
  },
  "nbformat": 4,
  "nbformat_minor": 0
}
